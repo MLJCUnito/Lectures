{
 "cells": [
  {
   "cell_type": "markdown",
   "metadata": {},
   "source": [
    "# Numpy Basic Concepts ##"
   ]
  },
  {
   "cell_type": "markdown",
   "metadata": {},
   "source": [
    "## 1 What is Numpy ?"
   ]
  },
  {
   "cell_type": "markdown",
   "metadata": {},
   "source": [
    "NumPy is the fundamental package for scientific computing with Python. It is:\n",
    "\n",
    "* a powerful Python extension for N-dimensional array\n",
    "* a tool for integrating C/C++ and Fortran code\n",
    "* designed for scientific computation: linear algebra and Signal Analysis\n",
    "\n",
    "If you are a MATLAB&reg; user we recommend to read [Numpy for MATLAB Users](https://docs.scipy.org/doc/numpy/user/numpy-for-matlab-users.html) and [Benefit of Open Source Python versus commercial packages](https://scipy.github.io/old-wiki/pages/NumPyProConPage.html). For an idea of the Open Source Approach to science, we suggest the [Science Code Manifesto](http://sciencecodemanifesto.org/)"
   ]
  },
  {
   "cell_type": "markdown",
   "metadata": {},
   "source": [
    "### 1.1 Documentation and reference:"
   ]
  },
  {
   "cell_type": "markdown",
   "metadata": {},
   "source": [
    "* [Numpy Reference guide](http://docs.scipy.org/doc/numpy/reference/)\n",
    "* [SciPy Reference](http://docs.scipy.org/doc/scipy/reference/)\n",
    "* [Scipy Topical Software](http://www.scipy.org/Topical_Software)\n",
    "* [Numpy Functions by Category](http://www.scipy.org/Numpy_Functions_by_Category)\n",
    "* [Numpy Example List With Doc](http://www.scipy.org/Numpy_Example_List_With_Doc)  "
   ]
  },
  {
   "cell_type": "markdown",
   "metadata": {},
   "source": [
    "Lets start by checking the Numpy version used in this Notebook:"
   ]
  },
  {
   "cell_type": "code",
   "execution_count": 1,
   "metadata": {},
   "outputs": [
    {
     "name": "stdout",
     "output_type": "stream",
     "text": [
      "numpy version:  1.17.3\n"
     ]
    }
   ],
   "source": [
    "import numpy as np\n",
    "print ('numpy version: ', np.__version__)"
   ]
  },
  {
   "cell_type": "markdown",
   "metadata": {},
   "source": [
    "## 2 Array Creation"
   ]
  },
  {
   "cell_type": "markdown",
   "metadata": {},
   "source": [
    "NumPy's main object is the homogeneous ***multidimensional array***. It is a table of elements (usually numbers), all of the **same type**. In Numpy dimensions are called ***axes***. The number of axes is called ***rank***. The most important attributes of an ndarray object are:\n",
    "\n",
    "* **ndarray.ndim**     - the number of axes (dimensions) of the array. \n",
    "* **ndarray.shape**    - the dimensions of the array. For a matrix with n rows and m columns, shape will be (n,m). \n",
    "* **ndarray.size**     - the total number of elements of the array. \n",
    "* **ndarray.dtype**    - numpy.int32, numpy.int16, and numpy.float64 are some examples. \n",
    "* **ndarray.itemsize** - the size in bytes of elements of the array. For example, elements of type float64 has itemsize 8 (=64/8) "
   ]
  },
  {
   "cell_type": "code",
   "execution_count": null,
   "metadata": {},
   "outputs": [],
   "source": [
    "# 1-d array:\n",
    "a = np.array([0,1,2,3])\n",
    "np.shape(a)\n",
    "a"
   ]
  },
  {
   "cell_type": "markdown",
   "metadata": {},
   "source": [
    "When we create our array, it is possible to set properly the *ndmin* parameter in order to change the dimension of the given array (and so the shape).\n",
    "Remember that the method *np.shape()* outputs a tuple, even when *dim*=1."
   ]
  },
  {
   "cell_type": "code",
   "execution_count": 135,
   "metadata": {},
   "outputs": [
    {
     "data": {
      "text/plain": [
       "(1, 4)"
      ]
     },
     "execution_count": 135,
     "metadata": {},
     "output_type": "execute_result"
    }
   ],
   "source": [
    "a = np.array([0,1,2,3], ndmin=2)\n",
    "a.shape # the same as np.shape(a)\n",
    "        # one row, four columns"
   ]
  },
  {
   "cell_type": "code",
   "execution_count": 137,
   "metadata": {},
   "outputs": [
    {
     "data": {
      "text/plain": [
       "(array([[ 0,  1,  2,  3],\n",
       "        [ 4,  5,  6,  7],\n",
       "        [ 8,  9, 10, 11]]), (3, 4))"
      ]
     },
     "execution_count": 137,
     "metadata": {},
     "output_type": "execute_result"
    }
   ],
   "source": [
    "# 2-d array\n",
    "b = np.array([[0,1,2,3],\n",
    "              [4,5,6,7],\n",
    "              [8,9,10,11]])\n",
    "b, b.shape                      #3 row, 4 columns"
   ]
  },
  {
   "cell_type": "markdown",
   "metadata": {},
   "source": [
    "**Try by yourself**   the following commands *(type or paste the commands in the cell below)*:\n",
    "\n",
    "    b.ndim                  # Number of dimensions\n",
    "    b.dtype.name            # Type of data\n",
    "    b.itemsize              # Size in bytes of elements\n",
    "    b.size                  # Number of elements in the array"
   ]
  },
  {
   "cell_type": "code",
   "execution_count": null,
   "metadata": {},
   "outputs": [],
   "source": []
  },
  {
   "cell_type": "markdown",
   "metadata": {},
   "source": [
    "The type of the array can be specified at creation time:"
   ]
  },
  {
   "cell_type": "code",
   "execution_count": 138,
   "metadata": {},
   "outputs": [
    {
     "name": "stdout",
     "output_type": "stream",
     "text": [
      "[[2.1 3.8]\n",
      " [6.5 7.6]]\n"
     ]
    }
   ],
   "source": [
    "c = np.array([[2.1,3.8], [6.5,7.6]], dtype=np.float64)\n",
    "print (c)"
   ]
  },
  {
   "cell_type": "markdown",
   "metadata": {},
   "source": [
    "We can modify the type of the array using *.astype()* method (this operation is called **casting**)\n",
    "\n",
    "\n",
    "However, pay attention when you are *downcasting* it!"
   ]
  },
  {
   "cell_type": "code",
   "execution_count": 155,
   "metadata": {},
   "outputs": [
    {
     "data": {
      "text/plain": [
       "array([[2, 3],\n",
       "       [6, 7]])"
      ]
     },
     "execution_count": 155,
     "metadata": {},
     "output_type": "execute_result"
    }
   ],
   "source": [
    "ill = c.astype('int64', casting='unsafe') # illegal way \n",
    "ill"
   ]
  },
  {
   "cell_type": "code",
   "execution_count": 157,
   "metadata": {},
   "outputs": [
    {
     "ename": "TypeError",
     "evalue": "Cannot cast array from dtype('float64') to dtype('int64') according to the rule 'safe'",
     "output_type": "error",
     "traceback": [
      "\u001b[0;31m---------------------------------------------------------------------------\u001b[0m",
      "\u001b[0;31mTypeError\u001b[0m                                 Traceback (most recent call last)",
      "\u001b[0;32m<ipython-input-157-97f6598b2fee>\u001b[0m in \u001b[0;36m<module>\u001b[0;34m\u001b[0m\n\u001b[0;32m----> 1\u001b[0;31m \u001b[0mleg\u001b[0m \u001b[0;34m=\u001b[0m \u001b[0mc\u001b[0m\u001b[0;34m.\u001b[0m\u001b[0mastype\u001b[0m\u001b[0;34m(\u001b[0m\u001b[0;34m'int64'\u001b[0m\u001b[0;34m,\u001b[0m \u001b[0mcasting\u001b[0m\u001b[0;34m=\u001b[0m\u001b[0;34m'safe'\u001b[0m\u001b[0;34m)\u001b[0m \u001b[0;31m# legal way\u001b[0m\u001b[0;34m\u001b[0m\u001b[0;34m\u001b[0m\u001b[0m\n\u001b[0m\u001b[1;32m      2\u001b[0m \u001b[0mleg\u001b[0m\u001b[0;34m\u001b[0m\u001b[0;34m\u001b[0m\u001b[0m\n",
      "\u001b[0;31mTypeError\u001b[0m: Cannot cast array from dtype('float64') to dtype('int64') according to the rule 'safe'"
     ]
    }
   ],
   "source": [
    "leg = c.astype('int64', casting='safe') # legal way\n",
    "leg"
   ]
  },
  {
   "cell_type": "markdown",
   "metadata": {},
   "source": [
    "If you want to convert 'legally' a *float* array into an *int*, you can use **round**: "
   ]
  },
  {
   "cell_type": "code",
   "execution_count": 141,
   "metadata": {},
   "outputs": [
    {
     "name": "stdout",
     "output_type": "stream",
     "text": [
      "[[2. 4.]\n",
      " [6. 8.]] \n",
      "\n",
      "[[2 4]\n",
      " [6 8]]\n"
     ]
    }
   ],
   "source": [
    "c_round = np.round(c)\n",
    "print(c_round, '\\n')\n",
    "print(c_round.astype(int))"
   ]
  },
  {
   "cell_type": "markdown",
   "metadata": {},
   "source": [
    "### 2.1 Array creation functions"
   ]
  },
  {
   "cell_type": "markdown",
   "metadata": {},
   "source": [
    "Often, the elements of an array are originally unknown, but its size is known. Hence, **NumPy** offers several functions to create arrays with initial placeholder content.\n",
    "\n",
    "The function `zeros` creates an array full of zeros, the function `ones` creates an array full of ones, and the function `empty` creates an array whose initial content is random and depends on the state of the memory. By default, the dtype of the created array is float64.  \n",
    "***Try by yourself*** the following commands:\n",
    "\n",
    "    zeros((3,4))\n",
    "    ones((3,4))\n",
    "    empty((2,3))\n",
    "    eye(3)\n",
    "    diag(np.arange(5))\n",
    "    np.tile(np.array([[6, 7], [8, 9]]), (2, 2))"
   ]
  },
  {
   "cell_type": "code",
   "execution_count": 165,
   "metadata": {},
   "outputs": [
    {
     "data": {
      "text/plain": [
       "array([[0., 0., 0., 0.],\n",
       "       [0., 0., 0., 0.],\n",
       "       [0., 0., 0., 0.]])"
      ]
     },
     "execution_count": 165,
     "metadata": {},
     "output_type": "execute_result"
    }
   ],
   "source": [
    "np.zeros((3,4))\n"
   ]
  },
  {
   "cell_type": "code",
   "execution_count": 166,
   "metadata": {},
   "outputs": [
    {
     "data": {
      "text/plain": [
       "array([[0, 0, 0, 0, 0],\n",
       "       [0, 1, 0, 0, 0],\n",
       "       [0, 0, 2, 0, 0],\n",
       "       [0, 0, 0, 3, 0],\n",
       "       [0, 0, 0, 0, 4]])"
      ]
     },
     "execution_count": 166,
     "metadata": {},
     "output_type": "execute_result"
    }
   ],
   "source": [
    "d=np.diag(np.arange(5))   #put the number from 0 to 5 in the main diagonal\n",
    "d"
   ]
  },
  {
   "cell_type": "markdown",
   "metadata": {},
   "source": [
    "`zeros_like, ones_like` and `empty_like` can be used to create arrays of the same type of a given one"
   ]
  },
  {
   "cell_type": "code",
   "execution_count": 167,
   "metadata": {},
   "outputs": [
    {
     "data": {
      "text/plain": [
       "array([[0., 0.],\n",
       "       [0., 0.]])"
      ]
     },
     "execution_count": 167,
     "metadata": {},
     "output_type": "execute_result"
    }
   ],
   "source": [
    "zl=np.zeros_like(c)\n",
    "zl"
   ]
  },
  {
   "cell_type": "markdown",
   "metadata": {},
   "source": [
    "### 2.2 Sequences and reshaping"
   ]
  },
  {
   "cell_type": "markdown",
   "metadata": {},
   "source": [
    "Arrays can be created with ***linspace***, ***logspace*** (returning evenly spaced numbers, linear or logarithmic) or ***arange*** and then shaped in matrix form. **mgrid** is like the equivaled \"meshgrid\" in MATLAB."
   ]
  },
  {
   "cell_type": "code",
   "execution_count": 176,
   "metadata": {},
   "outputs": [
    {
     "data": {
      "text/plain": [
       "array([1.e+01, 1.e+03, 1.e+05])"
      ]
     },
     "execution_count": 176,
     "metadata": {},
     "output_type": "execute_result"
    }
   ],
   "source": [
    "np.logspace(1,5,3) # logspace(start, end, num)"
   ]
  },
  {
   "cell_type": "code",
   "execution_count": 174,
   "metadata": {},
   "outputs": [
    {
     "data": {
      "text/plain": [
       "array([ 0,  1,  2,  3,  4,  5,  6,  7,  8,  9, 10, 11])"
      ]
     },
     "execution_count": 174,
     "metadata": {},
     "output_type": "execute_result"
    }
   ],
   "source": [
    "x = np.arange(12)\n",
    "x"
   ]
  },
  {
   "cell_type": "markdown",
   "metadata": {},
   "source": [
    "We can change the shape (and the dimension) of a given array using **reshape** but the new array that we are going to generate must have the same *size* (total number of elements) of the original one."
   ]
  },
  {
   "cell_type": "code",
   "execution_count": 187,
   "metadata": {},
   "outputs": [
    {
     "name": "stdout",
     "output_type": "stream",
     "text": [
      "[[ 0  1  2]\n",
      " [ 3  4  5]\n",
      " [ 6  7  8]\n",
      " [ 9 10 11]] \n",
      "\n",
      " dim:  2\n",
      "\n",
      " [[[ 0  1]\n",
      "  [ 2  3]]\n",
      "\n",
      " [[ 4  5]\n",
      "  [ 6  7]]\n",
      "\n",
      " [[ 8  9]\n",
      "  [10 11]]] \n",
      "\n",
      " dim : 3\n"
     ]
    }
   ],
   "source": [
    "x_2 = x.reshape(4,3) # equivalent to np.reshape(x,(4,3)) \n",
    "print(x_2, '\\n\\n dim: ', x_2.ndim)\n",
    "\n",
    "x_3 = x.reshape(-1,2,2)    # '-1' allows to add an unknown dimension (in this case it is 3)\n",
    "print('\\n', x_3, '\\n\\n dim :', x_3.ndim)"
   ]
  },
  {
   "cell_type": "markdown",
   "metadata": {},
   "source": [
    "Another way to change the dimension of a given array is **newaxis**:\n",
    "![](Images/newaxis_image.png)"
   ]
  },
  {
   "cell_type": "code",
   "execution_count": 194,
   "metadata": {},
   "outputs": [
    {
     "name": "stdout",
     "output_type": "stream",
     "text": [
      "[ 0.  2.  4.  6.  8. 10. 12.] shape:  (7,) \n",
      "\n",
      "[[ 0.]\n",
      " [ 2.]\n",
      " [ 4.]\n",
      " [ 6.]\n",
      " [ 8.]\n",
      " [10.]\n",
      " [12.]] \n",
      "\n",
      " new shape:  (7, 1)\n"
     ]
    }
   ],
   "source": [
    "d = np.linspace(0, 12, 7) # include gli estremi\n",
    "print (d, 'shape: ', d.shape, '\\n')\n",
    "\n",
    "d_new = d[:, np.newaxis]\n",
    "print(d_new, '\\n\\n new shape: ', d_new.shape)"
   ]
  },
  {
   "cell_type": "markdown",
   "metadata": {},
   "source": [
    "We can use **List comprehension** to create a matrix:\n"
   ]
  },
  {
   "cell_type": "code",
   "execution_count": 196,
   "metadata": {},
   "outputs": [
    {
     "name": "stdout",
     "output_type": "stream",
     "text": [
      "[[ 0  1  2]\n",
      " [10 11 12]\n",
      " [20 21 22]\n",
      " [30 31 32]]\n"
     ]
    }
   ],
   "source": [
    "c = np.array([[10*j +i for i in range(3)] for j in range(4)]) # prima fisso j (riga) e poi itero i (colonna)\n",
    "print (c)"
   ]
  },
  {
   "cell_type": "markdown",
   "metadata": {},
   "source": [
    "### 2.3 Random Number Generation"
   ]
  },
  {
   "cell_type": "markdown",
   "metadata": {},
   "source": [
    "There are several modules of numpy that allow us to generate arrays filled with random numbers from a given probability distribution. All of them are inside the module **.random**\n",
    "\n",
    "Actually, when we say *random* we do not exactly mean random. Instead, we are talking about algorithms which create **pseudo-random** numbers, which means that if we give to the algorithm a **seed** (a starting point), it will return the same numbers at every run.\n",
    "\n",
    "These algorithms are massively exploited in every machine learning model, for example when we want to generate new points from a given distribution or when we have to initialize some parameters that we want to learn.\n",
    "The function *.seed()* could be very useful to study the robustness the model we are building, especially if we are handling small data."
   ]
  },
  {
   "cell_type": "code",
   "execution_count": 221,
   "metadata": {},
   "outputs": [],
   "source": [
    "random?"
   ]
  },
  {
   "cell_type": "code",
   "execution_count": 218,
   "metadata": {},
   "outputs": [
    {
     "data": {
      "text/plain": [
       "array([[0.37454012, 0.95071431, 0.73199394, 0.59865848, 0.15601864],\n",
       "       [0.15599452, 0.05808361, 0.86617615, 0.60111501, 0.70807258],\n",
       "       [0.02058449, 0.96990985, 0.83244264, 0.21233911, 0.18182497],\n",
       "       [0.18340451, 0.30424224, 0.52475643, 0.43194502, 0.29122914]])"
      ]
     },
     "execution_count": 218,
     "metadata": {},
     "output_type": "execute_result"
    }
   ],
   "source": [
    "np.random.rand(4,5) # it fills an array of the given shape with uniform random numbers in [0,1]\n",
    "\n",
    "np.random.seed(42) \n",
    "\n",
    "np.random.rand(4,5)"
   ]
  },
  {
   "cell_type": "code",
   "execution_count": 219,
   "metadata": {},
   "outputs": [
    {
     "data": {
      "text/plain": [
       "array([[-1.01283112,  0.31424733, -0.90802408, -1.4123037 ,  1.46564877],\n",
       "       [-0.2257763 ,  0.0675282 , -1.42474819, -0.54438272,  0.11092259],\n",
       "       [-1.15099358,  0.37569802, -0.60063869, -0.29169375, -0.60170661],\n",
       "       [ 1.85227818, -0.01349722, -1.05771093,  0.82254491, -1.22084365]])"
      ]
     },
     "execution_count": 219,
     "metadata": {},
     "output_type": "execute_result"
    }
   ],
   "source": [
    "np.random.randn(4,5) # standard normal distributed random numbers"
   ]
  },
  {
   "cell_type": "markdown",
   "metadata": {},
   "source": [
    "### 2.4 Sparse Matrices"
   ]
  },
  {
   "cell_type": "markdown",
   "metadata": {},
   "source": [
    "Sparse Matrices are matrices (or more generally *multidimensional arrays*), usually with a huge size, filled mostly with zeros.\n",
    "\n",
    "Because we are interested in the non-zero elements (which are a tiny percentage) there is a lot of useless information (so wasted memory) inside a sparse matrix.\n",
    "\n",
    "To solve this problem, there are many formats that allow to compact all the useful information using far less memory. One of these smart formats is **Compressed-Sparse-Row**."
   ]
  },
  {
   "cell_type": "code",
   "execution_count": 208,
   "metadata": {},
   "outputs": [
    {
     "name": "stdout",
     "output_type": "stream",
     "text": [
      "[[0.         0.         0.         0.        ]\n",
      " [0.         0.         0.         0.        ]\n",
      " [0.90864888 0.         0.         0.        ]\n",
      " [0.         0.         0.         0.        ]\n",
      " [0.         0.         0.         0.8568503 ]\n",
      " [0.         0.         0.         0.88393648]]\n",
      "\n",
      "   (2, 0)\t0.9086488808086682\n",
      "  (4, 3)\t0.8568503024577332\n",
      "  (5, 3)\t0.8839364795611863\n",
      "\n",
      " Non-zero elements (1D array): [0.90864888 0.8568503  0.88393648]\n",
      "\n",
      " Column indices: [0 3 3]\n",
      "\n",
      " Points to row starts: [0 0 0 1 1 2 3]\n"
     ]
    }
   ],
   "source": [
    "from scipy import sparse\n",
    "\n",
    "# Create an array with many zeros\n",
    "\n",
    "#np.random.seed(10)\n",
    "X = np.random.rand(6,4)\n",
    "\n",
    "X[X < 0.85] = 0\n",
    "print (X)\n",
    "\n",
    "X_csr = sparse.csr_matrix(X) # turn X into a csr (Compressed-Sparse-Row) matrix\n",
    "\n",
    "print('\\n', X_csr)\n",
    "\n",
    "print('\\n Non-zero elements (1D array):', X_csr.data)\n",
    "print('\\n Column indices:', X_csr.indices)\n",
    "print('\\n Points to row starts:', X_csr.indptr) # indptr contains integers such that indptr[i] is the index of the\n",
    "                                                # element in data which is the first nonzero element of row i.\n",
    "                                                # If the entire row is zero then indptr[i]==indptr[i+1].\n",
    "                                                # If the original matrix has m rows then len(indptr)==m+1, because\n",
    "                                                # the last element is the NNZ (number of non-zero elements)."
   ]
  },
  {
   "cell_type": "code",
   "execution_count": 215,
   "metadata": {},
   "outputs": [
    {
     "name": "stdout",
     "output_type": "stream",
     "text": [
      "[[0.         0.         0.         0.        ]\n",
      " [0.         0.         0.         0.        ]\n",
      " [0.90864888 0.         0.         0.        ]\n",
      " [0.         0.         0.         0.        ]\n",
      " [0.         0.         0.         0.8568503 ]\n",
      " [0.         0.         0.         0.88393648]]\n"
     ]
    }
   ],
   "source": [
    "print (X_csr.toarray())       # convert back to a dense array"
   ]
  },
  {
   "cell_type": "markdown",
   "metadata": {},
   "source": [
    "There are several other sparse formats that can be useful for various problems:\n",
    "\n",
    "- `CSC` (compressed sparse column)\n",
    "- `BSR` (block sparse row)\n",
    "- `COO` (coordinate)\n",
    "- `DIA` (diagonal)\n",
    "- `DOK` (dictionary of keys)\n",
    "\n",
    "The ``scipy.sparse`` submodule also has a lot of functions for sparse matrices\n",
    "including linear algebra, sparse solvers, graph algorithms, and much more."
   ]
  },
  {
   "cell_type": "markdown",
   "metadata": {},
   "source": [
    "## 3 Basic Array Operations and Linear Algebra"
   ]
  },
  {
   "cell_type": "code",
   "execution_count": null,
   "metadata": {},
   "outputs": [],
   "source": []
  },
  {
   "cell_type": "markdown",
   "metadata": {},
   "source": [
    "Let's see now how to perform some basic operations on arrays:"
   ]
  },
  {
   "cell_type": "code",
   "execution_count": 75,
   "metadata": {},
   "outputs": [
    {
     "data": {
      "text/plain": [
       "array([[ 0,  1,  2,  3],\n",
       "       [ 4,  5,  6,  7],\n",
       "       [ 8,  9, 10, 11]])"
      ]
     },
     "execution_count": 75,
     "metadata": {},
     "output_type": "execute_result"
    }
   ],
   "source": [
    "M = np.array([[0,1,2,3],\n",
    "              [4,5,6,7],\n",
    "              [8,9,10,11]])\n",
    "M"
   ]
  },
  {
   "cell_type": "code",
   "execution_count": null,
   "metadata": {},
   "outputs": [],
   "source": [
    "M+2   #add 2 to each element of the array"
   ]
  },
  {
   "cell_type": "code",
   "execution_count": null,
   "metadata": {},
   "outputs": [],
   "source": [
    "M*2   #multiply by 2 each element of the array"
   ]
  },
  {
   "cell_type": "code",
   "execution_count": null,
   "metadata": {},
   "outputs": [],
   "source": [
    "N = np.array([[10,11,0,3],\n",
    "              [0,9,6,7],\n",
    "              [8,7,4,1]])\n",
    "N"
   ]
  },
  {
   "cell_type": "code",
   "execution_count": null,
   "metadata": {},
   "outputs": [],
   "source": [
    "M+N   #classic sum between matrix"
   ]
  },
  {
   "cell_type": "code",
   "execution_count": null,
   "metadata": {},
   "outputs": [],
   "source": [
    "M*N   # This kind of operation is not the classical matrix multiplication! In this case, \n",
    "      # we only multiply the elements N(ij) by M(ij). This is called element-wise multiplication (or Hadamard product)"
   ]
  },
  {
   "cell_type": "code",
   "execution_count": null,
   "metadata": {},
   "outputs": [],
   "source": [
    "np.exp(M)   # exponentiation of each elements (it is not the exponentiation of the matrix M)"
   ]
  },
  {
   "cell_type": "code",
   "execution_count": null,
   "metadata": {},
   "outputs": [],
   "source": [
    "# Pay attention to the shape of the matrix you are working with!\n",
    "\n",
    "L = np.array([[10,11,3],\n",
    "              [8,7,4]])\n",
    "M.shape, L.shape"
   ]
  },
  {
   "cell_type": "code",
   "execution_count": null,
   "metadata": {},
   "outputs": [],
   "source": [
    "M+L    #ERROR!"
   ]
  },
  {
   "cell_type": "markdown",
   "metadata": {},
   "source": [
    "### Broadcasting\n",
    "\n",
    "The term broadcasting describes how numpy treats arrays with different shapes during arithmetic operations. Subject to certain constraints, the smaller array is “broadcast” across the larger array so that they have compatible shapes.\n",
    "\n",
    "M+2 is a simple case of broadcasting: it's like you're performing the sum between M and a matrix with same shape of M and with only elements '2'"
   ]
  },
  {
   "cell_type": "markdown",
   "metadata": {},
   "source": [
    "<![](Images/numpy_broadcasting_image.png)"
   ]
  },
  {
   "cell_type": "code",
   "execution_count": null,
   "metadata": {},
   "outputs": [],
   "source": [
    "P = np.array([range(0,40,10)]*3).T\n",
    "P"
   ]
  },
  {
   "cell_type": "code",
   "execution_count": null,
   "metadata": {},
   "outputs": [],
   "source": [
    "v=np.array([np.arange(0,3)])\n",
    "v"
   ]
  },
  {
   "cell_type": "code",
   "execution_count": null,
   "metadata": {},
   "outputs": [],
   "source": [
    "P+v    #broadcasting!"
   ]
  },
  {
   "cell_type": "code",
   "execution_count": null,
   "metadata": {},
   "outputs": [],
   "source": [
    "w=np.array([np.arange(0,3)]).T\n",
    "w"
   ]
  },
  {
   "cell_type": "code",
   "execution_count": null,
   "metadata": {},
   "outputs": [],
   "source": [
    "w.shape, v.shape"
   ]
  },
  {
   "cell_type": "code",
   "execution_count": null,
   "metadata": {},
   "outputs": [],
   "source": [
    "w+v     #broadcasting!"
   ]
  },
  {
   "cell_type": "markdown",
   "metadata": {},
   "source": [
    "But.. what about the classic matrix multiplication that we know from algebra? Use the command .dot() and remember that the shape of the two arrays must be aligned! i.e. #columns M = #rows N"
   ]
  },
  {
   "cell_type": "code",
   "execution_count": null,
   "metadata": {},
   "outputs": [],
   "source": [
    "M.dot(N)   #ERROR: #columns M != #rows N"
   ]
  },
  {
   "cell_type": "code",
   "execution_count": null,
   "metadata": {},
   "outputs": [],
   "source": [
    "H = np.array([[0,3],\n",
    "              [0,7],\n",
    "              [8,7],\n",
    "              [11,13]])"
   ]
  },
  {
   "cell_type": "code",
   "execution_count": null,
   "metadata": {},
   "outputs": [],
   "source": [
    "M.shape, H.shape"
   ]
  },
  {
   "cell_type": "code",
   "execution_count": null,
   "metadata": {},
   "outputs": [],
   "source": [
    "M.dot(H)  # MxH classic multiplication between matrices "
   ]
  },
  {
   "cell_type": "markdown",
   "metadata": {},
   "source": [
    "**Transpose** of an array: rows become columns and columns become rows"
   ]
  },
  {
   "cell_type": "code",
   "execution_count": null,
   "metadata": {},
   "outputs": [],
   "source": [
    "H.T  #or np.transpose(H)"
   ]
  },
  {
   "cell_type": "code",
   "execution_count": null,
   "metadata": {},
   "outputs": [],
   "source": [
    "H.shape, H.T.shape"
   ]
  },
  {
   "cell_type": "markdown",
   "metadata": {},
   "source": [
    "**Trace** of a matrix: it is the sum of the matrix diagonal elements. If the matrix is not square, you have to specify what is the diagonal on which compute the trace."
   ]
  },
  {
   "cell_type": "code",
   "execution_count": null,
   "metadata": {},
   "outputs": [],
   "source": [
    "H.trace()  # trace over first diagonal"
   ]
  },
  {
   "cell_type": "code",
   "execution_count": null,
   "metadata": {},
   "outputs": [],
   "source": [
    "H.trace(1) # trace over the second diagonal"
   ]
  },
  {
   "cell_type": "markdown",
   "metadata": {},
   "source": [
    "###  Determinant and inverse of a square matrix"
   ]
  },
  {
   "cell_type": "markdown",
   "metadata": {},
   "source": [
    "The `scipy.linalg.det()` function computes the determinant of a square matrix:"
   ]
  },
  {
   "cell_type": "code",
   "execution_count": null,
   "metadata": {},
   "outputs": [],
   "source": [
    "from scipy import linalg\n",
    "\n",
    "s = np.array([[1, 2],\n",
    "               [3, 4]])\n",
    "s"
   ]
  },
  {
   "cell_type": "code",
   "execution_count": null,
   "metadata": {},
   "outputs": [],
   "source": [
    "linalg.det(s)"
   ]
  },
  {
   "cell_type": "markdown",
   "metadata": {},
   "source": [
    "The `scipy.linalg.inv()` function computes the inverse of a square matrix:"
   ]
  },
  {
   "cell_type": "code",
   "execution_count": null,
   "metadata": {},
   "outputs": [],
   "source": [
    "print (linalg.inv(s))"
   ]
  },
  {
   "cell_type": "markdown",
   "metadata": {},
   "source": [
    "\n",
    "\n",
    "### Exercise: Linear Transformation of a vector\n",
    "\n",
    "Define a function which takes as arguments a matrix *A* and a vector *v* and returns a new vector *w* that is the result of the algebric operation w = A * v.\n",
    "\n",
    "We also want that this function reshape properly *v* if it is an 1D array in order to transform it into a column vector, which is 2D (i.e. if v.shape is (3,) we want to turn it in (3,1))."
   ]
  },
  {
   "cell_type": "code",
   "execution_count": 123,
   "metadata": {},
   "outputs": [],
   "source": [
    "def Linear_Transformation(A, v):\n",
    "    \n",
    "    if (A.shape[1] == v.shape[0]):\n",
    "        \n",
    "        if (v.ndim == 2 and v.shape[1]==1):\n",
    "            return(A.dot(v))\n",
    "        \n",
    "        elif (v.ndim == 1):\n",
    "            v = v[:, np.newaxis]\n",
    "            return(A.dot(v))\n",
    "        \n",
    "        else: return('Error: the last array must be a vector!')\n",
    "    \n",
    "    else:\n",
    "        return ('Error')"
   ]
  },
  {
   "cell_type": "code",
   "execution_count": 124,
   "metadata": {},
   "outputs": [
    {
     "data": {
      "text/plain": [
       "'Error: the last array must be a vector!'"
      ]
     },
     "execution_count": 124,
     "metadata": {},
     "output_type": "execute_result"
    }
   ],
   "source": [
    "B = np.array([[0,2,3],\n",
    "             [8,-5,-1],\n",
    "             [1,2,3]])\n",
    "w = np.array([[1,2,3],\n",
    "             [1,2,3],\n",
    "             [1,2,3]])\n",
    "w.ndim\n",
    "\n",
    "Linear_Transformation(B,w)"
   ]
  },
  {
   "cell_type": "code",
   "execution_count": null,
   "metadata": {},
   "outputs": [],
   "source": []
  },
  {
   "cell_type": "markdown",
   "metadata": {},
   "source": [
    "### Stacking & concatenation"
   ]
  },
  {
   "cell_type": "markdown",
   "metadata": {},
   "source": [
    "There are many methods that allow to put together different arrays, with the proper shape. In fact, when we manipulate data, these methods are very useful!"
   ]
  },
  {
   "cell_type": "code",
   "execution_count": null,
   "metadata": {},
   "outputs": [],
   "source": [
    "a = np.array([[1, 2], [3, 4]])\n",
    "b = np.array([[5, 6]])\n",
    "print (a.shape, b.shape)\n",
    "print(a)\n",
    "print('\\n', b)"
   ]
  },
  {
   "cell_type": "code",
   "execution_count": null,
   "metadata": {},
   "outputs": [],
   "source": [
    "x = np.concatenate((a, b), axis=0) # join the two matrices a and b: axis=0 --> vertical stack (matrices with same number of columns!)\n",
    "print (x, x.shape)   "
   ]
  },
  {
   "cell_type": "code",
   "execution_count": null,
   "metadata": {},
   "outputs": [],
   "source": [
    "y = np.concatenate((a, b.T), axis=1) # axis=1 --> horizontal stack (matrices with same number of rows!)\n",
    "print (y, y.shape)"
   ]
  },
  {
   "cell_type": "code",
   "execution_count": null,
   "metadata": {},
   "outputs": [],
   "source": [
    "print (np.vstack((a,b)))     # vertical concatenation (by rows)\n",
    "print (np.hstack((a,b.T)))   # horizontal concatenation (by columns)"
   ]
  },
  {
   "cell_type": "markdown",
   "metadata": {},
   "source": [
    "Other very common methods are *.insert()* and *.append()*"
   ]
  },
  {
   "cell_type": "markdown",
   "metadata": {},
   "source": [
    "### Other useful commands"
   ]
  },
  {
   "cell_type": "code",
   "execution_count": null,
   "metadata": {},
   "outputs": [],
   "source": [
    "N"
   ]
  },
  {
   "cell_type": "code",
   "execution_count": null,
   "metadata": {},
   "outputs": [],
   "source": [
    "N.min(), N.max()   #to compute the max or the min element of the matrix"
   ]
  },
  {
   "cell_type": "code",
   "execution_count": null,
   "metadata": {},
   "outputs": [],
   "source": [
    "N.mean()  #mean of all elements of the matrix"
   ]
  },
  {
   "cell_type": "code",
   "execution_count": null,
   "metadata": {},
   "outputs": [],
   "source": [
    "N.cumsum(1)   #return the cumulative sum of the elements along a given axis.\n",
    "              "
   ]
  },
  {
   "cell_type": "code",
   "execution_count": null,
   "metadata": {},
   "outputs": [],
   "source": [
    "N.cumsum()    #the default (None) is to compute the cumsum over the flattened array."
   ]
  },
  {
   "cell_type": "code",
   "execution_count": null,
   "metadata": {},
   "outputs": [],
   "source": [
    "G = np.array([[1, 2, 2, 2, 4], [1, 4, 2, 1, 2], [1, 2, 4, 4, 2]])\n",
    "print(np.unique(G))      #return the unique values of the matrix "
   ]
  },
  {
   "cell_type": "markdown",
   "metadata": {},
   "source": [
    "## 4 Slicing - Indexing "
   ]
  },
  {
   "cell_type": "markdown",
   "metadata": {},
   "source": [
    "Remember: slices (indexed subarrays) are references to memory in the original array, this means that if you modify a slice, you modify the original array. In other words a slice is a pointer to the original array."
   ]
  },
  {
   "cell_type": "markdown",
   "metadata": {},
   "source": [
    "### 4.1 Indexing single elements"
   ]
  },
  {
   "cell_type": "code",
   "execution_count": null,
   "metadata": {},
   "outputs": [],
   "source": [
    "M"
   ]
  },
  {
   "cell_type": "code",
   "execution_count": null,
   "metadata": {},
   "outputs": [],
   "source": [
    "#The way to select the element in the position (i,j) is M[i,j]: \n",
    "#it returns the element of the matrix M in the row i and in the column j\n",
    "#For example:\n",
    "\n",
    "M[2,1]"
   ]
  },
  {
   "cell_type": "code",
   "execution_count": null,
   "metadata": {},
   "outputs": [],
   "source": [
    "M[0,0], M[-1,-1]  #the first and the last element"
   ]
  },
  {
   "cell_type": "markdown",
   "metadata": {},
   "source": [
    "### 4.2 Indexing by rows and columns"
   ]
  },
  {
   "cell_type": "code",
   "execution_count": null,
   "metadata": {},
   "outputs": [],
   "source": [
    "O = np.array([[0,1,2,3,0,9],\n",
    "              [4,5,6,7,6,2],\n",
    "              [8,9,10,11,1,0],\n",
    "              [0,1,2,3,2,7]])\n",
    "O"
   ]
  },
  {
   "cell_type": "code",
   "execution_count": null,
   "metadata": {},
   "outputs": [],
   "source": [
    "O[0,2:5]    #from the first row (0), select the elements from position 2 to position 5  "
   ]
  },
  {
   "cell_type": "code",
   "execution_count": null,
   "metadata": {},
   "outputs": [],
   "source": [
    "O[0,2:]    #from the first row (0), select the elements from position 2 to the end"
   ]
  },
  {
   "cell_type": "code",
   "execution_count": null,
   "metadata": {},
   "outputs": [],
   "source": [
    "O[1:4,2:5]   #from the row 2 to the row 4, select the elements from position 2 to position 5\n",
    "             #this is the way to create a submatrix from a given matrix O!"
   ]
  },
  {
   "cell_type": "code",
   "execution_count": null,
   "metadata": {},
   "outputs": [],
   "source": [
    "O[:, 2]    #all rows, elements of position 2 --> in this way you can select single columns"
   ]
  },
  {
   "cell_type": "code",
   "execution_count": null,
   "metadata": {},
   "outputs": [],
   "source": []
  }
 ],
 "metadata": {
  "kernelspec": {
   "display_name": "Python 3",
   "language": "python",
   "name": "python3"
  },
  "language_info": {
   "codemirror_mode": {
    "name": "ipython",
    "version": 3
   },
   "file_extension": ".py",
   "mimetype": "text/x-python",
   "name": "python",
   "nbconvert_exporter": "python",
   "pygments_lexer": "ipython3",
   "version": "3.6.9"
  }
 },
 "nbformat": 4,
 "nbformat_minor": 1
}
