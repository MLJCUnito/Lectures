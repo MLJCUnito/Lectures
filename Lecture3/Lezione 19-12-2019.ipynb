{
 "cells": [
  {
   "cell_type": "markdown",
   "metadata": {},
   "source": [
    "# Lecture 3: Comments, Functions, File Input/Output"
   ]
  },
  {
   "cell_type": "markdown",
   "metadata": {},
   "source": [
    "## Commenting vs Documenting your code\n",
    "Take a look at this resource: https://realpython.com/documenting-python-code/\n",
    "\n",
    "In general, commenting is describing your code to/for developers. The intended main audience is the maintainers and developers of the Python code. In conjunction with well-written code, comments help to guide the reader to better understand your code and its purpose and design:\n",
    "\n",
    "*“Code tells you how; Comments tell you why.”*\n",
    "\n",
    "Documenting code is describing its use and functionality to your users. While it may be helpful in the development process, the main intended audience is the users. The following section describes how and when to comment your code."
   ]
  },
  {
   "cell_type": "markdown",
   "metadata": {},
   "source": [
    "### The very basics of commenting code\n",
    "According to [PEP 8](https://pep8.org/#maximum-line-length), comments should have a maximum length of 72 characters.\n",
    "\n",
    "\n",
    "There are two (now kinda three) ways to comment your code: \n",
    "\n",
    "* *Single line comments* are created in Python using the pound sign (#) \n",
    "\n",
    "* *Multi-line comments*, add a triple ''' before and after your comment\n",
    "\n",
    "* *Type-Hinting* (take a look at this [one](https://www.youtube.com/watch?v=2xWhaALHTvU))"
   ]
  },
  {
   "cell_type": "code",
   "execution_count": 1,
   "metadata": {},
   "outputs": [],
   "source": [
    "# This is a single line comment"
   ]
  },
  {
   "cell_type": "code",
   "execution_count": 2,
   "metadata": {},
   "outputs": [],
   "source": [
    "'''This is\n",
    "a multiple line\n",
    "comment''';"
   ]
  },
  {
   "cell_type": "markdown",
   "metadata": {},
   "source": [
    "## Functions\n",
    "A function is basically a way of organising instructions. Think of a thing that you do regularly. Having experience means that you know what do, right? How? Well, you’ve got a clear idea in your head of what the steps necessary for that thing are. Functions are basically like that. They’re things you can write once that stop you from needing to repeat the same bit of code in loads of places. Once you’ve written a bit of logic down, you can just refer back to it, and be like, yo, do that thing again.\n",
    "\n",
    "### Arguments\n",
    "\n",
    "When you want any task done, you can think of it in terms of two things: \n",
    "* The logic of what needs to be done;\n",
    "* The things/people involved in that operation — that’s basically what an `argument` is"
   ]
  },
  {
   "cell_type": "code",
   "execution_count": 3,
   "metadata": {},
   "outputs": [
    {
     "data": {
      "text/plain": [
       "9"
      ]
     },
     "execution_count": 3,
     "metadata": {},
     "output_type": "execute_result"
    }
   ],
   "source": [
    "def square(x):\n",
    "    return(x**2)\n",
    "\n",
    "square(3)"
   ]
  },
  {
   "cell_type": "markdown",
   "metadata": {},
   "source": [
    "We've been mentioning documentation a few chunks back. It's time to introduce `docstrings` and deal with it!"
   ]
  },
  {
   "cell_type": "code",
   "execution_count": 4,
   "metadata": {},
   "outputs": [],
   "source": [
    "def square(x):\n",
    "    '''Return the square of the argument'''\n",
    "    return(x**2)\n",
    "\n",
    "square?"
   ]
  },
  {
   "cell_type": "markdown",
   "metadata": {},
   "source": [
    "Function arguments can have default values. If you don't explicity write them, they take the default value."
   ]
  },
  {
   "cell_type": "code",
   "execution_count": 5,
   "metadata": {},
   "outputs": [
    {
     "name": "stdout",
     "output_type": "stream",
     "text": [
      "27\n",
      "81\n"
     ]
    }
   ],
   "source": [
    "def power(x,n=3):\n",
    "    return(x**n)\n",
    "print(power(3))\n",
    "print(power(3,n=4))"
   ]
  },
  {
   "cell_type": "markdown",
   "metadata": {},
   "source": [
    "Mandatory (non-default) values always come first in the function definition, then default values. When you call a function you need to pass all the mandatory arguments in the correct order, then you can pass the default values you want, in any order, calling them by their name."
   ]
  },
  {
   "cell_type": "code",
   "execution_count": 6,
   "metadata": {},
   "outputs": [
    {
     "ename": "TypeError",
     "evalue": "power() missing 1 required positional argument: 'x'",
     "output_type": "error",
     "traceback": [
      "\u001b[0;31m---------------------------------------------------------------------------\u001b[0m",
      "\u001b[0;31mTypeError\u001b[0m                                 Traceback (most recent call last)",
      "\u001b[0;32m<ipython-input-6-08ae1528dec1>\u001b[0m in \u001b[0;36m<module>\u001b[0;34m()\u001b[0m\n\u001b[0;32m----> 1\u001b[0;31m \u001b[0mpower\u001b[0m\u001b[0;34m(\u001b[0m\u001b[0mn\u001b[0m\u001b[0;34m=\u001b[0m\u001b[0;36m4\u001b[0m\u001b[0;34m)\u001b[0m\u001b[0;34m\u001b[0m\u001b[0m\n\u001b[0m",
      "\u001b[0;31mTypeError\u001b[0m: power() missing 1 required positional argument: 'x'"
     ]
    }
   ],
   "source": [
    "power(n=4)"
   ]
  },
  {
   "cell_type": "code",
   "execution_count": 7,
   "metadata": {},
   "outputs": [
    {
     "name": "stdout",
     "output_type": "stream",
     "text": [
      "2.0\n",
      "0.5\n",
      "4.0\n",
      "5.0\n"
     ]
    }
   ],
   "source": [
    "def myfunction(a,b,c=1,d=0):\n",
    "    return a/b*c+d\n",
    "print(myfunction(10,5))\n",
    "print(myfunction(5,10))\n",
    "print(myfunction(10,5,c=2))\n",
    "print(myfunction(10,5,d=3))"
   ]
  },
  {
   "cell_type": "markdown",
   "metadata": {},
   "source": [
    "### Type-Hinting (a new kind of comment?)\n",
    "**In a nutshell**: Type hinting is literally what the words mean, you hint the type of the object(s) you're using.\n",
    "\n",
    "Due to the dynamic nature of Python, inferring or checking the type of an object being used is especially hard. This fact makes it hard for developers to understand what exactly is going on in code they haven't written."
   ]
  },
  {
   "cell_type": "code",
   "execution_count": 8,
   "metadata": {},
   "outputs": [],
   "source": [
    "def hello_name(name):\n",
    "    return(f\"Hello {name}\")"
   ]
  },
  {
   "cell_type": "code",
   "execution_count": 9,
   "metadata": {},
   "outputs": [
    {
     "data": {
      "text/plain": [
       "'Hello Rolando'"
      ]
     },
     "execution_count": 9,
     "metadata": {},
     "output_type": "execute_result"
    }
   ],
   "source": [
    "hello_name(\"Rolando\")"
   ]
  },
  {
   "cell_type": "code",
   "execution_count": 10,
   "metadata": {},
   "outputs": [],
   "source": [
    "def hello_name(name: str) -> str:\n",
    "    return(f\"Hello {name}\")"
   ]
  },
  {
   "cell_type": "code",
   "execution_count": 11,
   "metadata": {},
   "outputs": [
    {
     "data": {
      "text/plain": [
       "'Hello Carmine'"
      ]
     },
     "execution_count": 11,
     "metadata": {},
     "output_type": "execute_result"
    }
   ],
   "source": [
    "hello_name(\"Carmine\")"
   ]
  },
  {
   "cell_type": "markdown",
   "metadata": {},
   "source": [
    "### Lambda Functions\n",
    "\n",
    "Lambda functions are also called anonymous functions. An anonymous function is a function defined without a name. As you know to define a normal function in python, you need to use the `def` keyword. But in this case of anonymous functions, we use the `lambda` keyword to define the functions.\n",
    "\n",
    "A subtle peculiarity: Lambda functions are syntactically restricted to return a `single expression`."
   ]
  },
  {
   "cell_type": "code",
   "execution_count": 12,
   "metadata": {},
   "outputs": [
    {
     "name": "stdout",
     "output_type": "stream",
     "text": [
      "4\n"
     ]
    }
   ],
   "source": [
    "def add(x):\n",
    "    return x + x\n",
    "print(add(2))"
   ]
  },
  {
   "cell_type": "code",
   "execution_count": 13,
   "metadata": {},
   "outputs": [
    {
     "name": "stdout",
     "output_type": "stream",
     "text": [
      "40\n"
     ]
    }
   ],
   "source": [
    "add = lambda x: x + x\n",
    "print(add(20))"
   ]
  },
  {
   "cell_type": "code",
   "execution_count": 14,
   "metadata": {},
   "outputs": [],
   "source": [
    "def add_2_numbers(x,y):\n",
    "    return x + y \n"
   ]
  },
  {
   "cell_type": "code",
   "execution_count": 15,
   "metadata": {},
   "outputs": [
    {
     "name": "stdout",
     "output_type": "stream",
     "text": [
      "19\n"
     ]
    }
   ],
   "source": [
    "add_2_numbers = lambda x,y : x + y\n",
    "print(add_2_numbers(1,18))"
   ]
  },
  {
   "cell_type": "markdown",
   "metadata": {},
   "source": [
    "<img src=\"Images/defvslambda.png\">"
   ]
  },
  {
   "cell_type": "markdown",
   "metadata": {},
   "source": [
    "### A Few Exercises"
   ]
  },
  {
   "cell_type": "markdown",
   "metadata": {},
   "source": [
    "1) Import the `math` module in whatever way you prefer. Call its `sqrt` function on the number 13689 and print that value to the console."
   ]
  },
  {
   "cell_type": "code",
   "execution_count": 16,
   "metadata": {},
   "outputs": [
    {
     "name": "stdout",
     "output_type": "stream",
     "text": [
      "117.0\n"
     ]
    }
   ],
   "source": [
    "from math import sqrt\n",
    "print(sqrt(13689))"
   ]
  },
  {
   "cell_type": "markdown",
   "metadata": {},
   "source": [
    "2) Define a sequence of numbers:\n",
    "\n",
    "$x_n=n^2+1$\n",
    "\n",
    "for integers $n=0,1,2,…,N$. Write a program that prints out $x_n$ for $n=0,1,…,20$ using a while loop."
   ]
  },
  {
   "cell_type": "code",
   "execution_count": 17,
   "metadata": {},
   "outputs": [
    {
     "name": "stdout",
     "output_type": "stream",
     "text": [
      "1\n",
      "2\n",
      "5\n",
      "10\n",
      "17\n",
      "26\n",
      "37\n",
      "50\n",
      "65\n",
      "82\n",
      "101\n",
      "122\n",
      "145\n",
      "170\n",
      "197\n",
      "226\n",
      "257\n",
      "290\n",
      "325\n",
      "362\n",
      "401\n"
     ]
    }
   ],
   "source": [
    "n = 0\n",
    "while n <= 20:\n",
    "    x_n = n**2 + 1\n",
    "    print (x_n)\n",
    "    n = n + 1"
   ]
  },
  {
   "cell_type": "markdown",
   "metadata": {},
   "source": [
    "3) Define a function called `distance_from_zero`, with one argument (choose any argument name you like). If the type of the argument is either `int` or `float`, the function should return the absolute value of the function input. Otherwise, the function should return \"Nope\". Check if it works calling the function with -5.6 and \"what?\".\n"
   ]
  },
  {
   "cell_type": "code",
   "execution_count": 18,
   "metadata": {},
   "outputs": [],
   "source": [
    "def distance_from_zero(num):\n",
    "    if type(num)== int or type(num)== float:\n",
    "        return abs(num)\n",
    "    else:\n",
    "        return \"Nope\""
   ]
  },
  {
   "cell_type": "markdown",
   "metadata": {},
   "source": [
    "4) Follow the steps:\n",
    "\n",
    "$\\bullet$ First, define a function called `cube` that takes an argument called number.\n",
    "\n",
    "$\\bullet$ Make that function return the cube of that number.\n",
    "\n",
    "$\\bullet$ Define a second function called `by_three` that takes an argument called number. If that number is divisible by 3, `by_three` should call the previous function to return the cube of the number. Otherwise, `by_three` should return `False`. Check if it works."
   ]
  },
  {
   "cell_type": "code",
   "execution_count": 19,
   "metadata": {},
   "outputs": [],
   "source": [
    "def cube(number):\n",
    "    return number**3\n",
    "\n",
    "def by_three(number):\n",
    "    if number % 3 ==0:\n",
    "        return cube(number)\n",
    "    else:\n",
    "        return False"
   ]
  },
  {
   "cell_type": "markdown",
   "metadata": {},
   "source": [
    "5) Create a function `find_value`, which takes as input a number b and a list m, and returns the first occurrence of b in m."
   ]
  },
  {
   "cell_type": "code",
   "execution_count": 20,
   "metadata": {},
   "outputs": [],
   "source": [
    "def find_value(b, m):\n",
    "    ind = 0\n",
    "    while ind <= len(m)-1:\n",
    "        if m[ind] == b:\n",
    "            return ind\n",
    "        ind = ind+1\n",
    "    return(\"Not exists\")"
   ]
  },
  {
   "cell_type": "markdown",
   "metadata": {},
   "source": [
    "6) Create a function `find_all_values`, which takes as input a number b and a list m, and returns all the occurrences of b in m."
   ]
  },
  {
   "cell_type": "code",
   "execution_count": 21,
   "metadata": {},
   "outputs": [],
   "source": [
    "def find_all_values(b, m):\n",
    "    ind = 0\n",
    "    output = []\n",
    "    while ind <= len(m)-1:\n",
    "        if m[ind] == b:\n",
    "            output.append(ind)\n",
    "        ind = ind+1\n",
    "    if output == []:\n",
    "        return(\"Not exists\")\n",
    "    return(output)"
   ]
  },
  {
   "cell_type": "markdown",
   "metadata": {},
   "source": [
    "7) Create a function `solver` that solves a second order equation: $ax^2+bx+c=0$. Pay attention to take into account all possible cases (if the equation has complex solutions, just print \"Two complex solutions\" without calculating them."
   ]
  },
  {
   "cell_type": "code",
   "execution_count": 22,
   "metadata": {},
   "outputs": [],
   "source": [
    "from math import sqrt\n",
    "\n",
    "def solver(a, b, c):\n",
    "    if a==0:\n",
    "        if b != 0:\n",
    "            return -c/b\n",
    "        elif b==0 & c==0:\n",
    "            return(\"0=0, always satisfied\")\n",
    "        else:\n",
    "            return(\"Impossible\")\n",
    "    else:\n",
    "        delta = b**2-4*a*c\n",
    "        if delta >0:\n",
    "            x_1 = -b+sqrt(delta)/(2*a)\n",
    "            x_2 = -b-sqrt(delta)/(2*a)\n",
    "            return [x_1, x_2]\n",
    "        elif delta==0:\n",
    "            return -b/(2*a)\n",
    "        else:\n",
    "            return(\"Two complex solutions\")\n",
    "        \n",
    "    "
   ]
  },
  {
   "cell_type": "code",
   "execution_count": 23,
   "metadata": {},
   "outputs": [
    {
     "data": {
      "text/plain": [
       "'Two complex solutions'"
      ]
     },
     "execution_count": 23,
     "metadata": {},
     "output_type": "execute_result"
    }
   ],
   "source": [
    "solver(1,1,1)"
   ]
  },
  {
   "cell_type": "code",
   "execution_count": 24,
   "metadata": {},
   "outputs": [
    {
     "data": {
      "text/plain": [
       "-1.0"
      ]
     },
     "execution_count": 24,
     "metadata": {},
     "output_type": "execute_result"
    }
   ],
   "source": [
    "solver(0,1,1)"
   ]
  },
  {
   "cell_type": "markdown",
   "metadata": {},
   "source": [
    "## File I/O (Input/Output)\n",
    "https://docs.python.org/3/tutorial/inputoutput.html\n",
    "\n",
    "There are several ways to present the output of a program; data can be printed in a human-readable form, or written to a file for future use.\n",
    "\n",
    "### OS Module\n",
    "This module provides a portable way of using operating system dependent functionality"
   ]
  },
  {
   "cell_type": "markdown",
   "metadata": {},
   "source": [
    "First of all we need to know at wich directory is pointing the current notebook.\n",
    "In order to do this we can use the os package with the methods getcwd and listdir.\n",
    "\n",
    "`getcwd` means \"get current working directory\", which is, by default, the directory containing the current notebook\n"
   ]
  },
  {
   "cell_type": "code",
   "execution_count": 25,
   "metadata": {},
   "outputs": [
    {
     "data": {
      "text/plain": [
       "'/Users/simoneazeglio/Desktop/MLJCLezioni/Lecture3'"
      ]
     },
     "execution_count": 25,
     "metadata": {},
     "output_type": "execute_result"
    }
   ],
   "source": [
    "import os\n",
    "os.getcwd()"
   ]
  },
  {
   "cell_type": "markdown",
   "metadata": {},
   "source": [
    "`listdir` return a list of all subfolders and files in the current directory (including hidden folders, the ones beginning with .directory)"
   ]
  },
  {
   "cell_type": "code",
   "execution_count": 26,
   "metadata": {},
   "outputs": [
    {
     "data": {
      "text/plain": [
       "['.DS_Store',\n",
       " '.ipynb_checkpoints',\n",
       " 'data',\n",
       " 'Images',\n",
       " 'Lezione 19-12-2019.ipynb']"
      ]
     },
     "execution_count": 26,
     "metadata": {},
     "output_type": "execute_result"
    }
   ],
   "source": [
    "os.listdir()"
   ]
  },
  {
   "cell_type": "markdown",
   "metadata": {},
   "source": [
    "In order to manipulate a file on disk, first we need to associate the file with an object in python. This process is called opening a file. Once a file has been opened, its contents can be accessed through the associated file object.\n",
    "Second, we need a set of operations that can manipulate the file object.\n",
    "At the very least, this includes operations that allow us to read the information from a file and write new information to a file.\n",
    "\n",
    "You can open a file in different mode:\n",
    "- 'r' reading\n",
    "- 'w' writing\n",
    "- 'a' append, write at the end of the file\n",
    "\n"
   ]
  },
  {
   "cell_type": "code",
   "execution_count": 36,
   "metadata": {},
   "outputs": [],
   "source": [
    "file= open(\"data/file.txt\",\"w\")\n",
    "file.write(\"riga 1 \\n\")\n",
    "file.write(\"riga 2 \\n\")\n",
    "file.write(\"riga 3 \\n\")\n",
    "file.close()"
   ]
  },
  {
   "cell_type": "code",
   "execution_count": 37,
   "metadata": {},
   "outputs": [
    {
     "name": "stdout",
     "output_type": "stream",
     "text": [
      "<_io.TextIOWrapper name='data/file.txt' mode='r' encoding='UTF-8'>\n"
     ]
    }
   ],
   "source": [
    "file = open('data/file.txt')\n",
    "print(file)\n",
    "file.close()"
   ]
  },
  {
   "cell_type": "markdown",
   "metadata": {},
   "source": [
    "`read` Returns the entire remaining contents of the file as a single (potentially large, multi-line) string."
   ]
  },
  {
   "cell_type": "code",
   "execution_count": 38,
   "metadata": {},
   "outputs": [
    {
     "name": "stdout",
     "output_type": "stream",
     "text": [
      "riga 1 \n",
      "riga 2 \n",
      "riga 3 \n",
      "\n"
     ]
    }
   ],
   "source": [
    "file = open('data/file.txt')\n",
    "print(file.read())\n",
    "file.close()"
   ]
  },
  {
   "cell_type": "markdown",
   "metadata": {},
   "source": [
    "\n",
    "`readline` Returns the next line of the file. That is, all text up to and including the next newline character.\n",
    "\n"
   ]
  },
  {
   "cell_type": "code",
   "execution_count": 39,
   "metadata": {},
   "outputs": [
    {
     "name": "stdout",
     "output_type": "stream",
     "text": [
      "riga 1 \n",
      "\n"
     ]
    }
   ],
   "source": [
    "file = open('data/file.txt')\n",
    "print(file.readline())\n",
    "file.close()"
   ]
  },
  {
   "cell_type": "markdown",
   "metadata": {},
   "source": [
    "\n",
    "`readlines` Returns a list of the remaining lines in the file. Each list item is a single line including the newline character at the end.\n"
   ]
  },
  {
   "cell_type": "code",
   "execution_count": 40,
   "metadata": {},
   "outputs": [
    {
     "name": "stdout",
     "output_type": "stream",
     "text": [
      "['riga 1 \\n', 'riga 2 \\n', 'riga 3 \\n']\n"
     ]
    }
   ],
   "source": [
    "file = open('data/file.txt')\n",
    "print(file.readlines())\n",
    "file.close()"
   ]
  },
  {
   "cell_type": "markdown",
   "metadata": {},
   "source": [
    "\n",
    "A more \"pythonic way\" to open a file is to use the `with` sintax. In this way the file is automatically closed after the manipulation\n"
   ]
  },
  {
   "cell_type": "code",
   "execution_count": 41,
   "metadata": {},
   "outputs": [
    {
     "name": "stdout",
     "output_type": "stream",
     "text": [
      "['riga 1 \\n', 'riga 2 \\n', 'riga 3 \\n']\n"
     ]
    }
   ],
   "source": [
    "with open('data/file.txt') as file:\n",
    "    print(file.readlines())"
   ]
  },
  {
   "cell_type": "code",
   "execution_count": 42,
   "metadata": {},
   "outputs": [],
   "source": [
    "with open('data/file.txt',mode='a') as f:\n",
    "    f.write('nuova riga')"
   ]
  },
  {
   "cell_type": "code",
   "execution_count": 43,
   "metadata": {},
   "outputs": [
    {
     "name": "stdout",
     "output_type": "stream",
     "text": [
      "riga 1 \n",
      "riga 2 \n",
      "riga 3 \n",
      "nuova riga\n"
     ]
    }
   ],
   "source": [
    "with open('data/file.txt',mode='r') as f:\n",
    "    print(f.read())"
   ]
  }
 ],
 "metadata": {
  "kernelspec": {
   "display_name": "Python 3",
   "language": "python",
   "name": "python3"
  },
  "language_info": {
   "codemirror_mode": {
    "name": "ipython",
    "version": 3
   },
   "file_extension": ".py",
   "mimetype": "text/x-python",
   "name": "python",
   "nbconvert_exporter": "python",
   "pygments_lexer": "ipython3",
   "version": "3.7.0"
  }
 },
 "nbformat": 4,
 "nbformat_minor": 4
}
