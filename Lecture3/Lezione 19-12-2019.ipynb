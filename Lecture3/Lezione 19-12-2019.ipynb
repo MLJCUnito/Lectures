{
 "cells": [
  {
   "cell_type": "markdown",
   "metadata": {},
   "source": [
    "# Lecture 3: Comments, Functions, File Input/Output"
   ]
  },
  {
   "cell_type": "markdown",
   "metadata": {},
   "source": [
    "## Commenting vs Documenting your code\n",
    "Take a look at this resource: https://realpython.com/documenting-python-code/\n",
    "\n",
    "In general, commenting is describing your code to/for developers. The intended main audience is the maintainers and developers of the Python code. In conjunction with well-written code, comments help to guide the reader to better understand your code and its purpose and design:\n",
    "\n",
    "*“Code tells you how; Comments tell you why.”*\n",
    "\n",
    "Documenting code is describing its use and functionality to your users. While it may be helpful in the development process, the main intended audience is the users. The following section describes how and when to comment your code."
   ]
  },
  {
   "cell_type": "markdown",
   "metadata": {},
   "source": [
    "### The very basics of commenting code\n",
    "According to [PEP 8](https://pep8.org/#maximum-line-length), comments should have a maximum length of 72 characters.\n",
    "\n",
    "\n",
    "There are two (now kinda three) ways to comment your code: \n",
    "\n",
    "* *Single line comments* are created in Python using the pound sign (#) \n",
    "\n",
    "* *Multi-line comments*, add a triple ''' before and after your comment\n",
    "\n",
    "* *Type-Hinting* (take a look at this [one](https://www.youtube.com/watch?v=2xWhaALHTvU))"
   ]
  },
  {
   "cell_type": "code",
   "execution_count": 1,
   "metadata": {},
   "outputs": [],
   "source": [
    "# This is a single line comment"
   ]
  },
  {
   "cell_type": "code",
   "execution_count": 20,
   "metadata": {},
   "outputs": [],
   "source": [
    "'''This is\n",
    "a multiple line\n",
    "comment''';"
   ]
  },
  {
   "cell_type": "markdown",
   "metadata": {},
   "source": [
    "Type-Hinting"
   ]
  },
  {
   "cell_type": "code",
   "execution_count": 4,
   "metadata": {},
   "outputs": [],
   "source": [
    "def hello_name(name):\n",
    "    return(f\"Hello {name}\")"
   ]
  },
  {
   "cell_type": "code",
   "execution_count": 5,
   "metadata": {},
   "outputs": [
    {
     "data": {
      "text/plain": [
       "'Hello Rolando'"
      ]
     },
     "execution_count": 5,
     "metadata": {},
     "output_type": "execute_result"
    }
   ],
   "source": [
    "hello_name(\"Rolando\")"
   ]
  },
  {
   "cell_type": "code",
   "execution_count": 22,
   "metadata": {},
   "outputs": [],
   "source": [
    "def hello_name(name: str) -> str:\n",
    "    return(f\"Hello {name}\")"
   ]
  },
  {
   "cell_type": "code",
   "execution_count": 7,
   "metadata": {},
   "outputs": [
    {
     "data": {
      "text/plain": [
       "'Hello Carmine'"
      ]
     },
     "execution_count": 7,
     "metadata": {},
     "output_type": "execute_result"
    }
   ],
   "source": [
    "hello_name(\"Carmine\")"
   ]
  },
  {
   "cell_type": "markdown",
   "metadata": {},
   "source": [
    "## Functions\n",
    "A function is basically a way of organising instructions. Think of a thing that you do regularly. Having experience means that you know what do, right? How? Well, you’ve got a clear idea in your head of what the steps necessary for that thing are. Functions are basically like that. They’re things you can write once that stop you from needing to repeat the same bit of code in loads of places. Once you’ve written a bit of logic down, you can just refer back to it, and be like, yo, do that thing again.\n",
    "\n",
    "### Arguments\n",
    "\n",
    "When you want any task done, you can think of it in terms of two things: \n",
    "* The logic of what needs to be done;\n",
    "* The things/people involved in that operation — that’s basically what an `argument` is"
   ]
  },
  {
   "cell_type": "code",
   "execution_count": 2,
   "metadata": {},
   "outputs": [
    {
     "data": {
      "text/plain": [
       "9"
      ]
     },
     "execution_count": 2,
     "metadata": {},
     "output_type": "execute_result"
    }
   ],
   "source": [
    "def square(x):\n",
    "    return(x**2)\n",
    "\n",
    "square(3)"
   ]
  },
  {
   "cell_type": "markdown",
   "metadata": {},
   "source": [
    "We've been mentioning documentation a few chunks back. It's time to introduce `docstrings` and deal with it!"
   ]
  },
  {
   "cell_type": "code",
   "execution_count": 3,
   "metadata": {},
   "outputs": [
    {
     "data": {
      "text/plain": [
       "\u001b[0;31mSignature:\u001b[0m \u001b[0msquare\u001b[0m\u001b[0;34m(\u001b[0m\u001b[0mx\u001b[0m\u001b[0;34m)\u001b[0m\u001b[0;34m\u001b[0m\u001b[0;34m\u001b[0m\u001b[0m\n",
       "\u001b[0;31mDocstring:\u001b[0m Return the square of the argument\n",
       "\u001b[0;31mFile:\u001b[0m      ~/Desktop/Lezione 3/<ipython-input-3-6f0d11369cef>\n",
       "\u001b[0;31mType:\u001b[0m      function\n"
      ]
     },
     "metadata": {},
     "output_type": "display_data"
    }
   ],
   "source": [
    "def square(x):\n",
    "    '''Return the square of the argument'''\n",
    "    return(x**2)\n",
    "\n",
    "square?"
   ]
  },
  {
   "cell_type": "markdown",
   "metadata": {},
   "source": [
    "Function arguments can have default values. If you don't explicity write them, they take the default value."
   ]
  },
  {
   "cell_type": "code",
   "execution_count": 4,
   "metadata": {},
   "outputs": [
    {
     "name": "stdout",
     "output_type": "stream",
     "text": [
      "27\n",
      "81\n"
     ]
    }
   ],
   "source": [
    "def power(x,n=3):\n",
    "    return(x**n)\n",
    "print(power(3))\n",
    "print(power(3,n=4))"
   ]
  },
  {
   "cell_type": "markdown",
   "metadata": {},
   "source": [
    "Mandatory (non-default) values always come first in the function definition, then default values. When you call a function you need to pass all the mandatory arguments in the correct order, then you can pass the default values you want, in any order, calling them by their name."
   ]
  },
  {
   "cell_type": "code",
   "execution_count": 5,
   "metadata": {},
   "outputs": [
    {
     "ename": "TypeError",
     "evalue": "power() missing 1 required positional argument: 'x'",
     "output_type": "error",
     "traceback": [
      "\u001b[0;31m---------------------------------------------------------------------------\u001b[0m",
      "\u001b[0;31mTypeError\u001b[0m                                 Traceback (most recent call last)",
      "\u001b[0;32m<ipython-input-5-08ae1528dec1>\u001b[0m in \u001b[0;36m<module>\u001b[0;34m\u001b[0m\n\u001b[0;32m----> 1\u001b[0;31m \u001b[0mpower\u001b[0m\u001b[0;34m(\u001b[0m\u001b[0mn\u001b[0m\u001b[0;34m=\u001b[0m\u001b[0;36m4\u001b[0m\u001b[0;34m)\u001b[0m\u001b[0;34m\u001b[0m\u001b[0;34m\u001b[0m\u001b[0m\n\u001b[0m",
      "\u001b[0;31mTypeError\u001b[0m: power() missing 1 required positional argument: 'x'"
     ]
    }
   ],
   "source": [
    "power(n=4)"
   ]
  },
  {
   "cell_type": "code",
   "execution_count": 6,
   "metadata": {},
   "outputs": [
    {
     "name": "stdout",
     "output_type": "stream",
     "text": [
      "2.0\n",
      "0.5\n",
      "4.0\n",
      "5.0\n"
     ]
    }
   ],
   "source": [
    "def myfunction(a,b,c=1,d=0):\n",
    "    return a/b*c+d\n",
    "print(myfunction(10,5))\n",
    "print(myfunction(5,10))\n",
    "print(myfunction(10,5,c=2))\n",
    "print(myfunction(10,5,d=3))"
   ]
  },
  {
   "cell_type": "markdown",
   "metadata": {},
   "source": [
    "## Lambda Functions\n",
    "\n",
    "Lambda functions are also called anonymous functions. An anonymous function is a function defined without a name. As you know to define a normal function in python, you need to use the `def` keyword. But in this case of anonymous functions, we use the `lambda` keyword to define the functions.\n",
    "\n",
    "A subtle peculiarity: Lambda functions are syntactically restricted to return a `single expression`."
   ]
  },
  {
   "cell_type": "code",
   "execution_count": 16,
   "metadata": {},
   "outputs": [
    {
     "name": "stdout",
     "output_type": "stream",
     "text": [
      "4\n"
     ]
    }
   ],
   "source": [
    "def add(x):\n",
    "    return x + x\n",
    "print(add(2))"
   ]
  },
  {
   "cell_type": "code",
   "execution_count": 13,
   "metadata": {},
   "outputs": [
    {
     "name": "stdout",
     "output_type": "stream",
     "text": [
      "40\n"
     ]
    }
   ],
   "source": [
    "add = lambda x: x + x\n",
    "print(add(20))"
   ]
  },
  {
   "cell_type": "code",
   "execution_count": null,
   "metadata": {},
   "outputs": [],
   "source": [
    "def add_2_numbers(x,y):\n",
    "    return x + y "
   ]
  },
  {
   "cell_type": "markdown",
   "metadata": {},
   "source": [
    "<img src=\"Lecture3/Images/defvslambda.png\">"
   ]
  },
  {
   "cell_type": "markdown",
   "metadata": {},
   "source": [
    "## File I/O"
   ]
  },
  {
   "cell_type": "code",
   "execution_count": 9,
   "metadata": {},
   "outputs": [
    {
     "data": {
      "text/plain": [
       "'/home/simone/Desktop/Lezione 3'"
      ]
     },
     "execution_count": 9,
     "metadata": {},
     "output_type": "execute_result"
    }
   ],
   "source": [
    "import os\n",
    "os.getcwd()"
   ]
  },
  {
   "cell_type": "code",
   "execution_count": 10,
   "metadata": {},
   "outputs": [
    {
     "data": {
      "text/plain": [
       "['Lezione 19-12-2019.ipynb', '.ipynb_checkpoints', 'data']"
      ]
     },
     "execution_count": 10,
     "metadata": {},
     "output_type": "execute_result"
    }
   ],
   "source": [
    "os.listdir()"
   ]
  },
  {
   "cell_type": "markdown",
   "metadata": {},
   "source": [
    "Per manipolare un file sull'hard disk per prima cosa va associato ad un oggetto in python. questo si fa tramite l'operazione open.\n",
    "poi ci sono una serie di operazioni che si possono fare per leggere e scrivere il file.\n",
    "una volta concluso il lavoro in python il file va chiuso.\n",
    "\n",
    "open('path',mode='r','w','x') read,write,create"
   ]
  },
  {
   "cell_type": "code",
   "execution_count": 22,
   "metadata": {},
   "outputs": [
    {
     "name": "stdout",
     "output_type": "stream",
     "text": [
      "<_io.TextIOWrapper name='data/file.txt' mode='r' encoding='UTF-8'>\n"
     ]
    }
   ],
   "source": [
    "file = open('data/file.txt')\n",
    "print(file)\n",
    "file.close()"
   ]
  },
  {
   "cell_type": "code",
   "execution_count": 23,
   "metadata": {},
   "outputs": [
    {
     "name": "stdout",
     "output_type": "stream",
     "text": [
      "riga 1\n",
      "riga 2\n",
      "riga 3\n",
      "\n"
     ]
    }
   ],
   "source": [
    "#Returns the entire remaining contents of the file as a single (potentially large, multi-line) string.\n",
    "file = open('data/file.txt')\n",
    "print(file.read())\n",
    "file.close()"
   ]
  },
  {
   "cell_type": "code",
   "execution_count": 26,
   "metadata": {},
   "outputs": [
    {
     "name": "stdout",
     "output_type": "stream",
     "text": [
      "riga 1\n",
      "\n"
     ]
    }
   ],
   "source": [
    "#Returns the next line of the file. That is, all text up to and including the next newline character.\n",
    "file = open('data/file.txt')\n",
    "print(file.readline())\n",
    "file.close()"
   ]
  },
  {
   "cell_type": "code",
   "execution_count": 27,
   "metadata": {},
   "outputs": [
    {
     "name": "stdout",
     "output_type": "stream",
     "text": [
      "['riga 1\\n', 'riga 2\\n', 'riga 3\\n']\n"
     ]
    }
   ],
   "source": [
    "#Returns a list of the remaining lines in the file. Each list item is a single line including the newline character at the end.\n",
    "file = open('data/file.txt')\n",
    "print(file.readlines())\n",
    "file.close()"
   ]
  },
  {
   "cell_type": "code",
   "execution_count": 38,
   "metadata": {},
   "outputs": [
    {
     "name": "stdout",
     "output_type": "stream",
     "text": [
      "['riga 1\\n', 'riga 2\\n', 'riga 3\\n']\n"
     ]
    }
   ],
   "source": [
    "#Un modo più pitonico e sintetito di scrivere è usare with. facendo così il file viene chiuso automaticamente alla fine.\n",
    "with open('data/file.txt') as file:\n",
    "    print(file.readlines())"
   ]
  },
  {
   "cell_type": "code",
   "execution_count": 55,
   "metadata": {},
   "outputs": [],
   "source": [
    "#mode a= append, scrive solo alla fine del file\n",
    "with open('data/file.txt',mode='a') as f:\n",
    "    f.write('nuova riga')"
   ]
  },
  {
   "cell_type": "code",
   "execution_count": 57,
   "metadata": {},
   "outputs": [
    {
     "name": "stdout",
     "output_type": "stream",
     "text": [
      "riga 1\n",
      "riga 2\n",
      "riga 3\n",
      "riga 4nuova riga\n"
     ]
    }
   ],
   "source": [
    "with open('data/file.txt',mode='r') as f:\n",
    "    print(f.read())"
   ]
  }
 ],
 "metadata": {
  "kernelspec": {
   "display_name": "Python 3",
   "language": "python",
   "name": "python3"
  },
  "language_info": {
   "codemirror_mode": {
    "name": "ipython",
    "version": 3
   },
   "file_extension": ".py",
   "mimetype": "text/x-python",
   "name": "python",
   "nbconvert_exporter": "python",
   "pygments_lexer": "ipython3",
   "version": "3.7.0"
  }
 },
 "nbformat": 4,
 "nbformat_minor": 4
}
