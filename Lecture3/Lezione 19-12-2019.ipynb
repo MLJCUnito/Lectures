{
 "cells": [
  {
   "cell_type": "markdown",
   "metadata": {},
   "source": [
    "# Lecture 3: Comments, Functions, File Input/Output"
   ]
  },
  {
   "cell_type": "markdown",
   "metadata": {},
   "source": [
    "## Commenting vs Documenting your code\n",
    "Take a look at this resource: https://realpython.com/documenting-python-code/\n",
    "\n",
    "In general, commenting is describing your code to/for developers. The intended main audience is the maintainers and developers of the Python code. In conjunction with well-written code, comments help to guide the reader to better understand your code and its purpose and design:\n",
    "\n",
    "*“Code tells you how; Comments tell you why.”*\n",
    "\n",
    "Documenting code is describing its use and functionality to your users. While it may be helpful in the development process, the main intended audience is the users. The following section describes how and when to comment your code."
   ]
  },
  {
   "cell_type": "markdown",
   "metadata": {},
   "source": [
    "### The very basics of commenting code\n",
    "According to [PEP 8](https://pep8.org/#maximum-line-length), comments should have a maximum length of 72 characters.\n",
    "\n",
    "\n",
    "There are two (now kinda three) ways to comment your code: \n",
    "\n",
    "* *Single line comments* are created in Python using the pound sign (#) \n",
    "\n",
    "* *Multi-line comments*, add a triple ''' before and after your comment\n",
    "\n",
    "* *Type-Hinting* (take a look at this [one](https://www.youtube.com/watch?v=2xWhaALHTvU))"
   ]
  },
  {
   "cell_type": "code",
   "execution_count": null,
   "metadata": {},
   "outputs": [],
   "source": []
  },
  {
   "cell_type": "code",
   "execution_count": null,
   "metadata": {},
   "outputs": [],
   "source": []
  },
  {
   "cell_type": "markdown",
   "metadata": {},
   "source": [
    "## Functions\n",
    "A function is basically a way of organising instructions. Think of a thing that you do regularly. Having experience means that you know what do, right? How? Well, you’ve got a clear idea in your head of what the steps necessary for that thing are. Functions are basically like that. They’re things you can write once that stop you from needing to repeat the same bit of code in loads of places. Once you’ve written a bit of logic down, you can just refer back to it, and be like, yo, do that thing again.\n",
    "\n",
    "### Arguments\n",
    "\n",
    "When you want any task done, you can think of it in terms of two things: \n",
    "* The logic of what needs to be done;\n",
    "* The things/people involved in that operation — that’s basically what an `argument` is"
   ]
  },
  {
   "cell_type": "code",
   "execution_count": null,
   "metadata": {},
   "outputs": [],
   "source": []
  },
  {
   "cell_type": "markdown",
   "metadata": {},
   "source": [
    "We've been mentioning documentation a few chunks back. It's time to introduce `docstrings` and deal with it!"
   ]
  },
  {
   "cell_type": "code",
   "execution_count": null,
   "metadata": {},
   "outputs": [],
   "source": []
  },
  {
   "cell_type": "markdown",
   "metadata": {},
   "source": [
    "Function arguments can have default values. If you don't explicity write them, they take the default value."
   ]
  },
  {
   "cell_type": "code",
   "execution_count": null,
   "metadata": {},
   "outputs": [],
   "source": []
  },
  {
   "cell_type": "markdown",
   "metadata": {},
   "source": [
    "Mandatory (non-default) values always come first in the function definition, then default values. When you call a function you need to pass all the mandatory arguments in the correct order, then you can pass the default values you want, in any order, calling them by their name."
   ]
  },
  {
   "cell_type": "code",
   "execution_count": null,
   "metadata": {},
   "outputs": [],
   "source": []
  },
  {
   "cell_type": "code",
   "execution_count": null,
   "metadata": {},
   "outputs": [],
   "source": []
  },
  {
   "cell_type": "markdown",
   "metadata": {},
   "source": [
    "### Type-Hinting (a new kind of comment?)\n",
    "**In a nutshell**: Type hinting is literally what the words mean, you hint the type of the object(s) you're using.\n",
    "\n",
    "Due to the dynamic nature of Python, inferring or checking the type of an object being used is especially hard. This fact makes it hard for developers to understand what exactly is going on in code they haven't written."
   ]
  },
  {
   "cell_type": "code",
   "execution_count": null,
   "metadata": {},
   "outputs": [],
   "source": []
  },
  {
   "cell_type": "code",
   "execution_count": null,
   "metadata": {},
   "outputs": [],
   "source": []
  },
  {
   "cell_type": "code",
   "execution_count": null,
   "metadata": {},
   "outputs": [],
   "source": []
  },
  {
   "cell_type": "code",
   "execution_count": null,
   "metadata": {},
   "outputs": [],
   "source": []
  },
  {
   "cell_type": "markdown",
   "metadata": {},
   "source": [
    "### Lambda Functions\n",
    "\n",
    "Lambda functions are also called anonymous functions. An anonymous function is a function defined without a name. As you know to define a normal function in python, you need to use the `def` keyword. But in this case of anonymous functions, we use the `lambda` keyword to define the functions.\n",
    "\n",
    "A subtle peculiarity: Lambda functions are syntactically restricted to return a `single expression`."
   ]
  },
  {
   "cell_type": "code",
   "execution_count": null,
   "metadata": {},
   "outputs": [],
   "source": []
  },
  {
   "cell_type": "code",
   "execution_count": null,
   "metadata": {},
   "outputs": [],
   "source": []
  },
  {
   "cell_type": "code",
   "execution_count": null,
   "metadata": {},
   "outputs": [],
   "source": []
  },
  {
   "cell_type": "code",
   "execution_count": null,
   "metadata": {},
   "outputs": [],
   "source": []
  },
  {
   "cell_type": "markdown",
   "metadata": {},
   "source": [
    "<img src=\"Images/defvslambda.png\">"
   ]
  },
  {
   "cell_type": "markdown",
   "metadata": {},
   "source": [
    "### A Few Exercises"
   ]
  },
  {
   "cell_type": "markdown",
   "metadata": {},
   "source": [
    "1) Import the `math` module in whatever way you prefer. Call its `sqrt` function on the number 13689 and print that value to the console."
   ]
  },
  {
   "cell_type": "code",
   "execution_count": null,
   "metadata": {},
   "outputs": [],
   "source": []
  },
  {
   "cell_type": "markdown",
   "metadata": {},
   "source": [
    "2) Define a sequence of numbers:\n",
    "\n",
    "$x_n=n^2+1$\n",
    "\n",
    "for integers $n=0,1,2,…,N$. Write a program that prints out $x_n$ for $n=0,1,…,20$ using a while loop."
   ]
  },
  {
   "cell_type": "code",
   "execution_count": null,
   "metadata": {},
   "outputs": [],
   "source": []
  },
  {
   "cell_type": "markdown",
   "metadata": {},
   "source": [
    "3) Define a function called `distance_from_zero`, with one argument (choose any argument name you like). If the type of the argument is either `int` or `float`, the function should return the absolute value of the function input. Otherwise, the function should return \"Nope\". Check if it works calling the function with -5.6 and \"what?\".\n"
   ]
  },
  {
   "cell_type": "code",
   "execution_count": null,
   "metadata": {},
   "outputs": [],
   "source": []
  },
  {
   "cell_type": "markdown",
   "metadata": {},
   "source": [
    "4) Follow the steps:\n",
    "\n",
    "$\\bullet$ First, define a function called `cube` that takes an argument called number.\n",
    "\n",
    "$\\bullet$ Make that function return the cube of that number.\n",
    "\n",
    "$\\bullet$ Define a second function called `by_three` that takes an argument called number. If that number is divisible by 3, `by_three` should call the previous function to return the cube of the number. Otherwise, `by_three` should return `False`. Check if it works."
   ]
  },
  {
   "cell_type": "code",
   "execution_count": null,
   "metadata": {},
   "outputs": [],
   "source": []
  },
  {
   "cell_type": "markdown",
   "metadata": {},
   "source": [
    "5) Create a function `find_value`, which takes as input a number b and a list m, and returns the first occurrence of b in m."
   ]
  },
  {
   "cell_type": "code",
   "execution_count": null,
   "metadata": {},
   "outputs": [],
   "source": []
  },
  {
   "cell_type": "markdown",
   "metadata": {},
   "source": [
    "6) Create a function `find_all_values`, which takes as input a number b and a list m, and returns all the occurrences of b in m."
   ]
  },
  {
   "cell_type": "code",
   "execution_count": null,
   "metadata": {},
   "outputs": [],
   "source": []
  },
  {
   "cell_type": "markdown",
   "metadata": {},
   "source": [
    "7) Create a function `solver` that solves a second order equation: $ax^2+bx+c=0$. Pay attention to take into account all possible cases (if the equation has complex solutions, just print \"Two complex solutions\" without calculating them."
   ]
  },
  {
   "cell_type": "code",
   "execution_count": null,
   "metadata": {},
   "outputs": [],
   "source": []
  },
  {
   "cell_type": "code",
   "execution_count": null,
   "metadata": {},
   "outputs": [],
   "source": []
  },
  {
   "cell_type": "code",
   "execution_count": null,
   "metadata": {},
   "outputs": [],
   "source": []
  },
  {
   "cell_type": "markdown",
   "metadata": {},
   "source": [
    "## File I/O (Input/Output)\n",
    "https://docs.python.org/3/tutorial/inputoutput.html\n",
    "\n",
    "There are several ways to present the output of a program; data can be printed in a human-readable form, or written to a file for future use.\n",
    "\n",
    "### OS Module\n",
    "This module provides a portable way of using operating system dependent functionality"
   ]
  },
  {
   "cell_type": "markdown",
   "metadata": {},
   "source": [
    "First of all we need to know at wich directory is pointing the current notebook.\n",
    "In order to do this we can use the os package with the methods getcwd and listdir.\n",
    "\n",
    "`getcwd` means \"get current working directory\", which is, by default, the directory containing the current notebook\n"
   ]
  },
  {
   "cell_type": "code",
   "execution_count": null,
   "metadata": {},
   "outputs": [],
   "source": []
  },
  {
   "cell_type": "markdown",
   "metadata": {},
   "source": [
    "`listdir` return a list of all subfolders and files in the current directory (including hidden folders, the ones beginning with .directory)"
   ]
  },
  {
   "cell_type": "code",
   "execution_count": null,
   "metadata": {},
   "outputs": [],
   "source": []
  },
  {
   "cell_type": "markdown",
   "metadata": {},
   "source": [
    "In order to manipulate a file on disk, first we need to associate the file with an object in python. This process is called opening a file. Once a file has been opened, its contents can be accessed through the associated file object.\n",
    "Second, we need a set of operations that can manipulate the file object.\n",
    "At the very least, this includes operations that allow us to read the information from a file and write new information to a file.\n",
    "\n",
    "You can open a file in different mode:\n",
    "- 'r' reading\n",
    "- 'w' writing\n",
    "- 'a' append, write at the end of the file\n",
    "\n"
   ]
  },
  {
   "cell_type": "code",
   "execution_count": null,
   "metadata": {},
   "outputs": [],
   "source": []
  },
  {
   "cell_type": "code",
   "execution_count": null,
   "metadata": {},
   "outputs": [],
   "source": []
  },
  {
   "cell_type": "markdown",
   "metadata": {},
   "source": [
    "`read` Returns the entire remaining contents of the file as a single (potentially large, multi-line) string."
   ]
  },
  {
   "cell_type": "code",
   "execution_count": null,
   "metadata": {},
   "outputs": [],
   "source": []
  },
  {
   "cell_type": "markdown",
   "metadata": {},
   "source": [
    "\n",
    "`readline` Returns the next line of the file. That is, all text up to and including the next newline character.\n",
    "\n"
   ]
  },
  {
   "cell_type": "code",
   "execution_count": null,
   "metadata": {},
   "outputs": [],
   "source": []
  },
  {
   "cell_type": "markdown",
   "metadata": {},
   "source": [
    "\n",
    "`readlines` Returns a list of the remaining lines in the file. Each list item is a single line including the newline character at the end.\n"
   ]
  },
  {
   "cell_type": "code",
   "execution_count": null,
   "metadata": {},
   "outputs": [],
   "source": []
  },
  {
   "cell_type": "markdown",
   "metadata": {},
   "source": [
    "\n",
    "A more \"pythonic way\" to open a file is to use the `with` sintax. In this way the file is automatically closed after the manipulation\n"
   ]
  },
  {
   "cell_type": "code",
   "execution_count": null,
   "metadata": {},
   "outputs": [],
   "source": []
  },
  {
   "cell_type": "code",
   "execution_count": null,
   "metadata": {},
   "outputs": [],
   "source": []
  },
  {
   "cell_type": "code",
   "execution_count": null,
   "metadata": {},
   "outputs": [],
   "source": []
  },
  {
   "cell_type": "code",
   "execution_count": null,
   "metadata": {},
   "outputs": [],
   "source": []
  }
 ],
 "metadata": {
  "kernelspec": {
   "display_name": "Python 3",
   "language": "python",
   "name": "python3"
  },
  "language_info": {
   "codemirror_mode": {
    "name": "ipython",
    "version": 3
   },
   "file_extension": ".py",
   "mimetype": "text/x-python",
   "name": "python",
   "nbconvert_exporter": "python",
   "pygments_lexer": "ipython3",
   "version": "3.7.0"
  }
 },
 "nbformat": 4,
 "nbformat_minor": 4
}
