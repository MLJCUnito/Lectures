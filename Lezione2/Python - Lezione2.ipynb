{
 "cells": [
  {
   "cell_type": "markdown",
   "metadata": {},
   "source": [
    "-------------------------------------------------------------------------------------------------------------"
   ]
  },
  {
   "cell_type": "markdown",
   "metadata": {},
   "source": [
    "## Variabili booleane"
   ]
  },
  {
   "cell_type": "markdown",
   "metadata": {},
   "source": [
    "Cosa sono le variabili booleane? \n",
    "\n",
    "\n",
    "Sono variabili che possono assumere solo due valori, che possiamo pensare come 0 e 1\n",
    "\n",
    "\n",
    "Viste così potremmo confonderle con delle variabili intere a valori 0 o 1...\n",
    "In realtà i valori che queste variabili possono assumere sono \"True\" e \"False\"\n",
    "\n",
    "\n",
    "La nomenclatura mostrata deriva da una applicazione della logica matematica della algebra booleana\n",
    "\n",
    "\n",
    "Noi le usiamo, ad esempio per verificare che due cose siano uguali\n"
   ]
  },
  {
   "cell_type": "code",
   "execution_count": 80,
   "metadata": {},
   "outputs": [
    {
     "name": "stdout",
     "output_type": "stream",
     "text": [
      "True\n",
      "True\n"
     ]
    }
   ],
   "source": [
    "print(True==1)\n",
    "print(False==0)"
   ]
  },
  {
   "cell_type": "code",
   "execution_count": 81,
   "metadata": {},
   "outputs": [
    {
     "name": "stdout",
     "output_type": "stream",
     "text": [
      "False\n"
     ]
    }
   ],
   "source": [
    "a, b = 1, 1\n",
    "c, d = 3, 3\n",
    "\n",
    "bool1 = ( a!=b )\n",
    "print( bool1 )\n"
   ]
  },
  {
   "cell_type": "code",
   "execution_count": 82,
   "metadata": {},
   "outputs": [
    {
     "name": "stdout",
     "output_type": "stream",
     "text": [
      "False\n"
     ]
    }
   ],
   "source": [
    "bool2 = (a==b)\n",
    "\n",
    "print(a==b and c==b)"
   ]
  },
  {
   "cell_type": "code",
   "execution_count": 83,
   "metadata": {},
   "outputs": [
    {
     "name": "stdout",
     "output_type": "stream",
     "text": [
      "False\n"
     ]
    }
   ],
   "source": [
    "print( a!=b or a==c)"
   ]
  },
  {
   "cell_type": "code",
   "execution_count": 84,
   "metadata": {},
   "outputs": [
    {
     "name": "stdout",
     "output_type": "stream",
     "text": [
      "True False\n",
      "False\n"
     ]
    }
   ],
   "source": [
    "logic1 = (a==b or a==c)\n",
    "logic2 = (a==c or c!=d)\n",
    "\n",
    "print(logic1, logic2)\n",
    "\n",
    "logic3 = logic1 and logic2\n",
    "\n",
    "print(logic3)"
   ]
  },
  {
   "cell_type": "code",
   "execution_count": 85,
   "metadata": {},
   "outputs": [
    {
     "name": "stdout",
     "output_type": "stream",
     "text": [
      "True\n"
     ]
    }
   ],
   "source": [
    "p = not logic3\n",
    "\n",
    "print(p)"
   ]
  },
  {
   "cell_type": "markdown",
   "metadata": {},
   "source": [
    "# -------------------------------------------------------------------------------------------------"
   ]
  },
  {
   "cell_type": "markdown",
   "metadata": {},
   "source": [
    "# -------------------------------------------------------------------------------------------------"
   ]
  },
  {
   "cell_type": "markdown",
   "metadata": {},
   "source": [
    "## IF-ELSE"
   ]
  },
  {
   "cell_type": "markdown",
   "metadata": {},
   "source": [
    "Introduzione al if/else statement"
   ]
  },
  {
   "cell_type": "code",
   "execution_count": 86,
   "metadata": {},
   "outputs": [
    {
     "data": {
      "text/html": [
       "<img src=\"https://i.redd.it/4r8y098nnm621.jpg\"/>"
      ],
      "text/plain": [
       "<IPython.core.display.Image object>"
      ]
     },
     "execution_count": 86,
     "metadata": {},
     "output_type": "execute_result"
    }
   ],
   "source": [
    "from IPython.display import Image\n",
    "from IPython.core.display import HTML \n",
    "Image(url= \"https://i.redd.it/4r8y098nnm621.jpg\")"
   ]
  },
  {
   "cell_type": "markdown",
   "metadata": {},
   "source": [
    "Cosa fa lo statement if else? Più facile a farsi che a dirsi\n",
    "\n",
    "Se verifichi una condizione fai una cosa, se non è verificata ne fai un'altra"
   ]
  },
  {
   "cell_type": "markdown",
   "metadata": {},
   "source": [
    "    if condizione vera:\n",
    "        fai qualcosa\n",
    "    else: \n",
    "        fanne un'altra"
   ]
  },
  {
   "cell_type": "code",
   "execution_count": 87,
   "metadata": {},
   "outputs": [
    {
     "name": "stdout",
     "output_type": "stream",
     "text": [
      "Povero Darwin... \n",
      "\n"
     ]
    }
   ],
   "source": [
    "m = 'Moscerino'\n",
    "n = 'Mosca'\n",
    "p = 'Mosca'\n",
    "\n",
    "if not (n==m):\n",
    "    print('Povero Darwin... \\n')\n",
    "elif p==m:\n",
    "    print('altro')\n",
    "else:\n",
    "    print('Si vola!')\n",
    "    "
   ]
  },
  {
   "cell_type": "markdown",
   "metadata": {},
   "source": [
    "ELIF STATEMENT\n",
    "\n",
    "Per inserire più di un condizionale, cioè per verificare eventualità esclusive si possono mettere tutte assieme con il seguente costrutto, che generalizza l'if else appena visto.\n",
    "L'utilizzo delle parentesi tonde non è obbligatorio!\n"
   ]
  },
  {
   "cell_type": "markdown",
   "metadata": {},
   "source": [
    "## Introduzione al ciclo WHILE"
   ]
  },
  {
   "cell_type": "markdown",
   "metadata": {},
   "source": [
    "Il ciclo while è uno statement condiviso da tutti i linguaggi di programmazione \n",
    "\n",
    "Di fatto è un loop, che esegue le istruzioni al suo interno fino a che una certa condizione rimane verificata\n",
    "\n",
    "Il check della validità della condizione del loop viene implementato con un confronto di variabili booleane"
   ]
  },
  {
   "cell_type": "markdown",
   "metadata": {},
   "source": [
    "    while (condizione vera):  \n",
    "        fai qualcosa    "
   ]
  },
  {
   "cell_type": "code",
   "execution_count": 116,
   "metadata": {},
   "outputs": [
    {
     "name": "stdout",
     "output_type": "stream",
     "text": [
      "a =  1\n",
      "a =  2\n",
      "a =  3\n",
      "a =  4\n",
      "a =  5\n",
      "a =  6\n",
      "a =  7\n",
      "a =  8\n",
      "a =  9\n",
      "a =  10\n"
     ]
    }
   ],
   "source": [
    "a = 0 \n",
    "\n",
    "while a < 10:\n",
    "    a = a + 1\n",
    "    print(\"a = \", a)"
   ]
  },
  {
   "cell_type": "code",
   "execution_count": 117,
   "metadata": {},
   "outputs": [],
   "source": [
    "a = 3\n",
    "\n"
   ]
  },
  {
   "cell_type": "code",
   "execution_count": 118,
   "metadata": {},
   "outputs": [
    {
     "name": "stdout",
     "output_type": "stream",
     "text": [
      "5\n",
      "7\n",
      "9\n",
      "11\n",
      "13\n",
      "15\n",
      "17\n",
      "19\n",
      "21\n",
      "23\n",
      "25\n",
      "27\n",
      "29\n",
      "31\n",
      "33\n",
      "35\n",
      "37\n",
      "39\n",
      "41\n",
      "43\n",
      "45\n",
      "47\n",
      "49\n",
      "51\n",
      "53\n",
      "55\n",
      "57\n",
      "59\n",
      "61\n",
      "63\n",
      "65\n",
      "67\n",
      "69\n",
      "71\n",
      "73\n",
      "75\n",
      "77\n",
      "79\n",
      "81\n",
      "83\n",
      "85\n",
      "87\n",
      "89\n",
      "91\n",
      "93\n",
      "95\n",
      "97\n",
      "99\n",
      "101\n"
     ]
    }
   ],
   "source": [
    "while a%2 != 0:\n",
    "    \n",
    "    a = a + 2\n",
    "    print(a)\n",
    "    if(a<100):\n",
    "        continue\n",
    "    else:\n",
    "        break"
   ]
  },
  {
   "cell_type": "code",
   "execution_count": 91,
   "metadata": {},
   "outputs": [
    {
     "name": "stdout",
     "output_type": "stream",
     "text": [
      "Iter. num 0  [0]\n",
      "Iter. num 1  [0, 1]\n",
      "Iter. num 2  [0, 1, 4]\n",
      "Iter. num 3  [0, 1, 4, 9]\n",
      "Iter. num 4  [0, 1, 4, 9, 16]\n",
      "Iter. num 5  [0, 1, 4, 9, 16, 25]\n",
      "Iter. num 6  [0, 1, 4, 9, 16, 25, 36]\n",
      "Iter. num 7  [0, 1, 4, 9, 16, 25, 36, 49]\n",
      "Iter. num 8  [0, 1, 4, 9, 16, 25, 36, 49, 64]\n",
      "Iter. num 9  [0, 1, 4, 9, 16, 25, 36, 49, 64, 81]\n",
      "--------------------------------------------------\n",
      "Iter. num 0  [0]\n",
      "Iter. num 1  [0, 1]\n",
      "Iter. num 2  [0, 1, 4]\n",
      "Iter. num 3  [0, 1, 4, 9]\n",
      "Iter. num 4  [0, 1, 4, 9, 16]\n",
      "Iter. num 5  [0, 1, 4, 9, 16, 25]\n",
      "Iter. num 6  [0, 1, 4, 9, 16, 25, 36]\n",
      "Iter. num 7  [0, 1, 4, 9, 16, 25, 36, 49]\n",
      "Iter. num 8  [0, 1, 4, 9, 16, 25, 36, 49, 64]\n",
      "Iter. num 9  [0, 1, 4, 9, 16, 25, 36, 49, 64, 81]\n"
     ]
    }
   ],
   "source": [
    "p = list( range(0,10))\n",
    "l = []\n",
    "\n",
    "for q in p:\n",
    "    \n",
    "    l.append(q*q)\n",
    "    print(\"Iter. num\" , q, \"\", l)\n",
    "   \n",
    "print(\"--------------------------------------------------\")\n",
    "\n",
    "m = []\n",
    "c = 0\n",
    "\n",
    "while c<10:\n",
    "    \n",
    "    m.append(c*c)\n",
    "    print(\"Iter. num\" , c, \"\", m)\n",
    "    c = c + 1"
   ]
  },
  {
   "cell_type": "markdown",
   "metadata": {},
   "source": [
    "OCCHIO : un ciclo while può non fermarsi mai"
   ]
  },
  {
   "cell_type": "markdown",
   "metadata": {},
   "source": [
    "se la condizione da verificare è SEMPRE vera il loop continuerà all infinito"
   ]
  },
  {
   "cell_type": "markdown",
   "metadata": {},
   "source": [
    "A volte si può fare la stessa cosa con un ciclo for"
   ]
  },
  {
   "cell_type": "markdown",
   "metadata": {},
   "source": [
    "A volte no!"
   ]
  },
  {
   "cell_type": "markdown",
   "metadata": {},
   "source": [
    "## ESERCIZIO: Parole palindrome"
   ]
  },
  {
   "cell_type": "code",
   "execution_count": 121,
   "metadata": {},
   "outputs": [
    {
     "name": "stdout",
     "output_type": "stream",
     "text": [
      "True\n"
     ]
    }
   ],
   "source": [
    "word = 'ingegni'\n",
    "\n",
    "l = len(word)\n",
    "check = True\n",
    "i=0\n",
    "\n",
    "while(i<l/2 and check == True):\n",
    "    if (word[i] != word[-i-1]):\n",
    "        check=False\n",
    "    i+=1\n",
    "\n",
    "print(check)"
   ]
  },
  {
   "cell_type": "code",
   "execution_count": 122,
   "metadata": {},
   "outputs": [
    {
     "name": "stdout",
     "output_type": "stream",
     "text": [
      "True \t\t La parola 'ingegni' è palindroma\n"
     ]
    }
   ],
   "source": [
    "## Si può fare lo stesso anche con un ciclo for, ad esempio così:\n",
    "\n",
    "word = 'ingegni'\n",
    "\n",
    "l = len(word)\n",
    "check = False\n",
    "\n",
    "for i in range(0,int(l/2)):\n",
    "    if word[i] == word[-i-1]:\n",
    "        check = True\n",
    "        i+=1\n",
    "\n",
    "    else: \n",
    "        check = False\n",
    "        break\n",
    "        \n",
    "if check == True:\n",
    "    print(check, \"\\t\\t La parola '%s' è palindroma\" % word)\n",
    "else:\n",
    "    print(check, \"\\t\\t La parola '%s' NON è palindroma\" % word)"
   ]
  },
  {
   "cell_type": "code",
   "execution_count": null,
   "metadata": {},
   "outputs": [],
   "source": []
  },
  {
   "cell_type": "markdown",
   "metadata": {},
   "source": [
    "# -------------------------------------------------------------------------------------------"
   ]
  },
  {
   "cell_type": "markdown",
   "metadata": {},
   "source": [
    "## Una nuova struttura dati : i dizionari"
   ]
  },
  {
   "cell_type": "code",
   "execution_count": 128,
   "metadata": {},
   "outputs": [],
   "source": [
    "altezza = [('cesare', 190), ('jacopo', 175), ('arianna', 160)]"
   ]
  },
  {
   "cell_type": "markdown",
   "metadata": {},
   "source": [
    "Data una stringa $n$, trovare altezza corrispondente:"
   ]
  },
  {
   "cell_type": "code",
   "execution_count": 129,
   "metadata": {},
   "outputs": [
    {
     "name": "stdout",
     "output_type": "stream",
     "text": [
      "Altezza di cesare: 190\n"
     ]
    }
   ],
   "source": [
    "for (name, height) in altezza:\n",
    "    if name == n:\n",
    "        print(f'Altezza di {name}: {height}')"
   ]
  },
  {
   "cell_type": "markdown",
   "metadata": {},
   "source": [
    "Quante iterazioni servono?"
   ]
  },
  {
   "cell_type": "markdown",
   "metadata": {},
   "source": [
    "Dictionaries are **'Associative Arrays'**: values are indexed by generic keys. In other words the indexing key can be an integer number but can be a string, a tuple or any other immutable object.\n",
    "\n",
    "SINTASSI:\n",
    "dizionario = {key1 : value1, key2 : value2, key3 : value3, ... }"
   ]
  },
  {
   "cell_type": "code",
   "execution_count": 130,
   "metadata": {},
   "outputs": [],
   "source": [
    "# aggiungiamo elementi\n",
    "altezza = {'cesare': 190, 'jacopo': 175, 'arianna': 160}"
   ]
  },
  {
   "cell_type": "code",
   "execution_count": 131,
   "metadata": {},
   "outputs": [
    {
     "data": {
      "text/plain": [
       "190"
      ]
     },
     "execution_count": 131,
     "metadata": {},
     "output_type": "execute_result"
    }
   ],
   "source": [
    "altezza['cesare']"
   ]
  },
  {
   "cell_type": "code",
   "execution_count": 132,
   "metadata": {},
   "outputs": [
    {
     "data": {
      "text/plain": [
       "3"
      ]
     },
     "execution_count": 132,
     "metadata": {},
     "output_type": "execute_result"
    }
   ],
   "source": [
    "len(altezza)"
   ]
  },
  {
   "cell_type": "code",
   "execution_count": 126,
   "metadata": {},
   "outputs": [
    {
     "data": {
      "text/plain": [
       "dict_keys(['cesare', 'jacopo', 'arianna'])"
      ]
     },
     "execution_count": 126,
     "metadata": {},
     "output_type": "execute_result"
    }
   ],
   "source": [
    "altezza.keys()"
   ]
  },
  {
   "cell_type": "code",
   "execution_count": 99,
   "metadata": {},
   "outputs": [
    {
     "data": {
      "text/plain": [
       "dict_values([190, 175, 160])"
      ]
     },
     "execution_count": 99,
     "metadata": {},
     "output_type": "execute_result"
    }
   ],
   "source": [
    "altezza.values()"
   ]
  },
  {
   "cell_type": "code",
   "execution_count": 100,
   "metadata": {},
   "outputs": [
    {
     "data": {
      "text/plain": [
       "dict_items([('cesare', 190), ('jacopo', 175), ('arianna', 160)])"
      ]
     },
     "execution_count": 100,
     "metadata": {},
     "output_type": "execute_result"
    }
   ],
   "source": [
    "altezza.items()"
   ]
  },
  {
   "cell_type": "code",
   "execution_count": 101,
   "metadata": {},
   "outputs": [],
   "source": [
    "altezza['carlo'] = 180 # aggiungere elementi a un dizionario"
   ]
  },
  {
   "cell_type": "code",
   "execution_count": 102,
   "metadata": {},
   "outputs": [
    {
     "data": {
      "text/plain": [
       "{'cesare': 190, 'jacopo': 175, 'arianna': 160, 'carlo': 180}"
      ]
     },
     "execution_count": 102,
     "metadata": {},
     "output_type": "execute_result"
    }
   ],
   "source": [
    "altezza"
   ]
  },
  {
   "cell_type": "code",
   "execution_count": 103,
   "metadata": {},
   "outputs": [
    {
     "data": {
      "text/plain": [
       "{'cesare': 190, 'jacopo': 175, 'arianna': 160}"
      ]
     },
     "execution_count": 103,
     "metadata": {},
     "output_type": "execute_result"
    }
   ],
   "source": [
    "del altezza['carlo'] # eliminare elementi\n",
    "altezza"
   ]
  },
  {
   "cell_type": "code",
   "execution_count": 136,
   "metadata": {},
   "outputs": [],
   "source": [
    "# Dizionario di dizionari\n",
    "persone = {\n",
    "    'max': {\n",
    "        'altezza': 175,\n",
    "        'peso': 65\n",
    "    },\n",
    "    \n",
    "    'luca': {\n",
    "        'altezza': 130,\n",
    "        'peso': 140\n",
    "    }\n",
    "}"
   ]
  },
  {
   "cell_type": "code",
   "execution_count": 139,
   "metadata": {},
   "outputs": [
    {
     "data": {
      "text/plain": [
       "175"
      ]
     },
     "execution_count": 139,
     "metadata": {},
     "output_type": "execute_result"
    }
   ],
   "source": [
    "persone['max']['altezza']"
   ]
  },
  {
   "cell_type": "code",
   "execution_count": 141,
   "metadata": {},
   "outputs": [
    {
     "data": {
      "text/plain": [
       "[['Cesare', '(831)1234567'], ['Jacopo', '(832)1234889']]"
      ]
     },
     "execution_count": 141,
     "metadata": {},
     "output_type": "execute_result"
    }
   ],
   "source": [
    "# Un altro modo per creare un dizionario: dict()\n",
    "\n",
    "data = [\n",
    " ['Cesare', '(831)1234567'],\n",
    " ['Jacopo', '(832)1234889']\n",
    "]\n",
    "data"
   ]
  },
  {
   "cell_type": "code",
   "execution_count": 142,
   "metadata": {},
   "outputs": [
    {
     "data": {
      "text/plain": [
       "{'Cesare': '(831)1234567', 'Jacopo': '(832)1234889'}"
      ]
     },
     "execution_count": 142,
     "metadata": {},
     "output_type": "execute_result"
    }
   ],
   "source": [
    "data = dict(data)\n",
    "data"
   ]
  },
  {
   "cell_type": "code",
   "execution_count": 108,
   "metadata": {},
   "outputs": [
    {
     "data": {
      "text/plain": [
       "{}"
      ]
     },
     "execution_count": 108,
     "metadata": {},
     "output_type": "execute_result"
    }
   ],
   "source": [
    "empty_dict = {}\n",
    "empty_dict"
   ]
  },
  {
   "cell_type": "code",
   "execution_count": 109,
   "metadata": {},
   "outputs": [
    {
     "data": {
      "text/plain": [
       "'(832)1234889'"
      ]
     },
     "execution_count": 109,
     "metadata": {},
     "output_type": "execute_result"
    }
   ],
   "source": [
    "data['Jacopo']"
   ]
  },
  {
   "cell_type": "code",
   "execution_count": 110,
   "metadata": {},
   "outputs": [
    {
     "data": {
      "text/plain": [
       "{'Cesare': '(831)1234567', 'Jacopo': '(832)98765432210'}"
      ]
     },
     "execution_count": 110,
     "metadata": {},
     "output_type": "execute_result"
    }
   ],
   "source": [
    "data['Jacopo'] = '(832)98765432210'\n",
    "data"
   ]
  },
  {
   "cell_type": "code",
   "execution_count": 111,
   "metadata": {},
   "outputs": [
    {
     "data": {
      "text/plain": [
       "{'Cesare': '(831)1234567',\n",
       " 'Jacopo': '(832)98765432210',\n",
       " 'Luca': '(832)98765432210'}"
      ]
     },
     "execution_count": 111,
     "metadata": {},
     "output_type": "execute_result"
    }
   ],
   "source": [
    "data['Luca'] = data['Jacopo']\n",
    "data"
   ]
  },
  {
   "cell_type": "code",
   "execution_count": 112,
   "metadata": {},
   "outputs": [
    {
     "data": {
      "text/plain": [
       "{'Cesare': '(831)1234567', 'Luca': '(832)98765432210'}"
      ]
     },
     "execution_count": 112,
     "metadata": {},
     "output_type": "execute_result"
    }
   ],
   "source": [
    "del data['Jacopo']\n",
    "data"
   ]
  },
  {
   "cell_type": "code",
   "execution_count": 113,
   "metadata": {},
   "outputs": [
    {
     "data": {
      "text/plain": [
       "'(832)98765432210'"
      ]
     },
     "execution_count": 113,
     "metadata": {},
     "output_type": "execute_result"
    }
   ],
   "source": [
    "name = 'Luca'\n",
    "data[name]"
   ]
  },
  {
   "cell_type": "code",
   "execution_count": 114,
   "metadata": {},
   "outputs": [
    {
     "name": "stdout",
     "output_type": "stream",
     "text": [
      "Cesare (831)1234567\n",
      "Luca (832)98765432210\n"
     ]
    }
   ],
   "source": [
    "for name, phone in data.items():\n",
    "    print(name, phone)"
   ]
  },
  {
   "cell_type": "code",
   "execution_count": null,
   "metadata": {},
   "outputs": [],
   "source": []
  }
 ],
 "metadata": {
  "kernelspec": {
   "display_name": "Python 3",
   "language": "python",
   "name": "python3"
  },
  "language_info": {
   "codemirror_mode": {
    "name": "ipython",
    "version": 3
   },
   "file_extension": ".py",
   "mimetype": "text/x-python",
   "name": "python",
   "nbconvert_exporter": "python",
   "pygments_lexer": "ipython3",
   "version": "3.6.9"
  }
 },
 "nbformat": 4,
 "nbformat_minor": 2
}
